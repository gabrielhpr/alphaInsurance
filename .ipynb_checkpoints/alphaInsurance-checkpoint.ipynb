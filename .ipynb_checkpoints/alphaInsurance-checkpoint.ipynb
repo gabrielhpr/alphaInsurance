{
 "cells": [
  {
   "cell_type": "markdown",
   "metadata": {
    "heading_collapsed": true
   },
   "source": [
    "# 0.0. Mission"
   ]
  },
  {
   "cell_type": "markdown",
   "metadata": {
    "ExecuteTime": {
     "end_time": "2021-02-11T17:00:14.900033Z",
     "start_time": "2021-02-11T17:00:14.896006Z"
    },
    "heading_collapsed": true,
    "hidden": true
   },
   "source": [
    "## Context"
   ]
  },
  {
   "cell_type": "markdown",
   "metadata": {
    "hidden": true
   },
   "source": [
    "<p> Alpha Insurance is a company that provides health insurance to their customers. With the goal of improving <br> their revenue the product team is thinking about \n",
    "the possibility of offering car insurance to its customers.</p>\n",
    "\n",
    "<p>The enterprise has made a research with over 380,000 customers to know their intention\n",
    "in purchasing the new <br> service. The product team has selected another 127,000 customers\n",
    "that the sales team will try to sell the new service. </p>\n",
    "    \n",
    "<p>As the sales team cannot get in touch with all of the selected customers during the campaign time,\n",
    "they need to <br> give priority to those clients that are more likely to purchase the service. So \n",
    "they need a data scientist to select the <br> 20,000 more interested customers. </p>"
   ]
  },
  {
   "cell_type": "markdown",
   "metadata": {
    "heading_collapsed": true,
    "hidden": true
   },
   "source": [
    "## Challenge"
   ]
  },
  {
   "cell_type": "markdown",
   "metadata": {
    "hidden": true
   },
   "source": [
    "<b>Select the 20,000 customers, that are more interested in buying the car insurance.</b>"
   ]
  },
  {
   "cell_type": "markdown",
   "metadata": {
    "heading_collapsed": true
   },
   "source": [
    "# 1.0. Preparing Process"
   ]
  },
  {
   "cell_type": "markdown",
   "metadata": {
    "heading_collapsed": true,
    "hidden": true
   },
   "source": [
    "## 1.1. IMPORTS"
   ]
  },
  {
   "cell_type": "code",
   "execution_count": 292,
   "metadata": {
    "ExecuteTime": {
     "end_time": "2021-02-16T00:20:40.789607Z",
     "start_time": "2021-02-16T00:20:40.711228Z"
    },
    "hidden": true
   },
   "outputs": [
    {
     "data": {
      "text/html": [
       "<style>.container { width:100% !important; }</style>"
      ],
      "text/plain": [
       "<IPython.core.display.HTML object>"
      ]
     },
     "metadata": {},
     "output_type": "display_data"
    },
    {
     "data": {
      "text/html": [
       "<style>h1 { font-size:23px !important; }</style>"
      ],
      "text/plain": [
       "<IPython.core.display.HTML object>"
      ]
     },
     "metadata": {},
     "output_type": "display_data"
    },
    {
     "data": {
      "text/html": [
       "<style>h2 { font-size:20px !important; }</style>"
      ],
      "text/plain": [
       "<IPython.core.display.HTML object>"
      ]
     },
     "metadata": {},
     "output_type": "display_data"
    },
    {
     "data": {
      "text/html": [
       "<style>h3 { font-size:17px !important; }</style>"
      ],
      "text/plain": [
       "<IPython.core.display.HTML object>"
      ]
     },
     "metadata": {},
     "output_type": "display_data"
    },
    {
     "data": {
      "text/html": [
       "<style>h4 { font-size:16px !important; }</style>"
      ],
      "text/plain": [
       "<IPython.core.display.HTML object>"
      ]
     },
     "metadata": {},
     "output_type": "display_data"
    },
    {
     "data": {
      "text/html": [
       "<style>p { font-size:16px !important; }</style>"
      ],
      "text/plain": [
       "<IPython.core.display.HTML object>"
      ]
     },
     "metadata": {},
     "output_type": "display_data"
    },
    {
     "data": {
      "text/html": [
       "<style>th { font-size:15px !important; }</style>"
      ],
      "text/plain": [
       "<IPython.core.display.HTML object>"
      ]
     },
     "metadata": {},
     "output_type": "display_data"
    },
    {
     "data": {
      "text/html": [
       "<style>td { font-size:15px !important; }</style>"
      ],
      "text/plain": [
       "<IPython.core.display.HTML object>"
      ]
     },
     "metadata": {},
     "output_type": "display_data"
    },
    {
     "data": {
      "text/html": [
       "<style>span { font-size:16px !important; }</style>"
      ],
      "text/plain": [
       "<IPython.core.display.HTML object>"
      ]
     },
     "metadata": {},
     "output_type": "display_data"
    }
   ],
   "source": [
    "import math\n",
    "import datetime\n",
    "import inflection\n",
    "import numpy as np\n",
    "import pandas as pd\n",
    "import random\n",
    "import matplotlib.pyplot as plt\n",
    "import seaborn as sns\n",
    "import warnings\n",
    "warnings.simplefilter(action='ignore', category=FutureWarning)\n",
    "from IPython.display         import Image\n",
    "\n",
    "\n",
    "\n",
    "###--------- PANDAS - EXIBIR TODAS COLUNAS ----###\n",
    "\n",
    "pd.set_option('display.max_columns', None)\n",
    "\n",
    "\n",
    "###--------- ESTILIZAÇÃO DO NOTEBOOK ---------###\n",
    "\n",
    "from IPython.core.display import display, HTML\n",
    "\n",
    "# retira a margem do notebook\n",
    "display(HTML(\"<style>.container { width:100% !important; }</style>\"))\n",
    "\n",
    "# font do texto markdown\n",
    "display(HTML(\"<style>h1 { font-size:23px !important; }</style>\"))\n",
    "display(HTML(\"<style>h2 { font-size:20px !important; }</style>\"))\n",
    "display(HTML(\"<style>h3 { font-size:17px !important; }</style>\"))\n",
    "display(HTML(\"<style>h4 { font-size:16px !important; }</style>\"))\n",
    "display(HTML(\"<style>p { font-size:16px !important; }</style>\"))\n",
    "\n",
    "# tamanho da fonte da tabela\n",
    "display(HTML(\"<style>th { font-size:15px !important; }</style>\"))\n",
    "display(HTML(\"<style>td { font-size:15px !important; }</style>\"))\n",
    "\n",
    "# font do codigo \n",
    "display(HTML(\"<style>span { font-size:16px !important; }</style>\"))"
   ]
  },
  {
   "cell_type": "markdown",
   "metadata": {
    "hidden": true
   },
   "source": [
    "## 1.2. Helper Functions"
   ]
  },
  {
   "cell_type": "markdown",
   "metadata": {
    "heading_collapsed": true,
    "hidden": true
   },
   "source": [
    "## 1.3. Loading Data"
   ]
  },
  {
   "cell_type": "code",
   "execution_count": 293,
   "metadata": {
    "ExecuteTime": {
     "end_time": "2021-02-16T00:20:42.682920Z",
     "start_time": "2021-02-16T00:20:40.794734Z"
    },
    "hidden": true
   },
   "outputs": [],
   "source": [
    "train_raw_data = pd.read_csv('data/train.csv', low_memory=False)\n",
    "test_raw_data = pd.read_csv('data/test.csv', low_memory=False)"
   ]
  },
  {
   "cell_type": "code",
   "execution_count": 294,
   "metadata": {
    "ExecuteTime": {
     "end_time": "2021-02-16T00:20:42.704623Z",
     "start_time": "2021-02-16T00:20:42.684525Z"
    },
    "hidden": true
   },
   "outputs": [
    {
     "data": {
      "text/html": [
       "<div>\n",
       "<style scoped>\n",
       "    .dataframe tbody tr th:only-of-type {\n",
       "        vertical-align: middle;\n",
       "    }\n",
       "\n",
       "    .dataframe tbody tr th {\n",
       "        vertical-align: top;\n",
       "    }\n",
       "\n",
       "    .dataframe thead th {\n",
       "        text-align: right;\n",
       "    }\n",
       "</style>\n",
       "<table border=\"1\" class=\"dataframe\">\n",
       "  <thead>\n",
       "    <tr style=\"text-align: right;\">\n",
       "      <th></th>\n",
       "      <th>id</th>\n",
       "      <th>Gender</th>\n",
       "      <th>Age</th>\n",
       "      <th>Driving_License</th>\n",
       "      <th>Region_Code</th>\n",
       "      <th>Previously_Insured</th>\n",
       "      <th>Vehicle_Age</th>\n",
       "      <th>Vehicle_Damage</th>\n",
       "      <th>Annual_Premium</th>\n",
       "      <th>Policy_Sales_Channel</th>\n",
       "      <th>Vintage</th>\n",
       "      <th>Response</th>\n",
       "    </tr>\n",
       "  </thead>\n",
       "  <tbody>\n",
       "    <tr>\n",
       "      <th>216356</th>\n",
       "      <td>216357</td>\n",
       "      <td>Male</td>\n",
       "      <td>24</td>\n",
       "      <td>1</td>\n",
       "      <td>30.0</td>\n",
       "      <td>1</td>\n",
       "      <td>&lt; 1 Year</td>\n",
       "      <td>No</td>\n",
       "      <td>29099.0</td>\n",
       "      <td>152.0</td>\n",
       "      <td>131</td>\n",
       "      <td>0</td>\n",
       "    </tr>\n",
       "  </tbody>\n",
       "</table>\n",
       "</div>"
      ],
      "text/plain": [
       "            id Gender  Age  Driving_License  Region_Code  Previously_Insured  \\\n",
       "216356  216357   Male   24                1         30.0                   1   \n",
       "\n",
       "       Vehicle_Age Vehicle_Damage  Annual_Premium  Policy_Sales_Channel  \\\n",
       "216356    < 1 Year             No         29099.0                 152.0   \n",
       "\n",
       "        Vintage  Response  \n",
       "216356      131         0  "
      ]
     },
     "execution_count": 294,
     "metadata": {},
     "output_type": "execute_result"
    }
   ],
   "source": [
    "train_raw_data.sample()"
   ]
  },
  {
   "cell_type": "markdown",
   "metadata": {
    "heading_collapsed": true
   },
   "source": [
    "# 2.0. Data Description"
   ]
  },
  {
   "cell_type": "code",
   "execution_count": 295,
   "metadata": {
    "ExecuteTime": {
     "end_time": "2021-02-16T00:20:42.827586Z",
     "start_time": "2021-02-16T00:20:42.707335Z"
    },
    "hidden": true
   },
   "outputs": [],
   "source": [
    "df2 = train_raw_data.copy()"
   ]
  },
  {
   "cell_type": "markdown",
   "metadata": {
    "heading_collapsed": true,
    "hidden": true
   },
   "source": [
    "## 2.1. Rename Columns"
   ]
  },
  {
   "cell_type": "code",
   "execution_count": 296,
   "metadata": {
    "ExecuteTime": {
     "end_time": "2021-02-16T00:20:43.125869Z",
     "start_time": "2021-02-16T00:20:42.836039Z"
    },
    "hidden": true
   },
   "outputs": [
    {
     "data": {
      "text/plain": [
       "['id',\n",
       " 'Gender',\n",
       " 'Age',\n",
       " 'Driving_License',\n",
       " 'Region_Code',\n",
       " 'Previously_Insured',\n",
       " 'Vehicle_Age',\n",
       " 'Vehicle_Damage',\n",
       " 'Annual_Premium',\n",
       " 'Policy_Sales_Channel',\n",
       " 'Vintage',\n",
       " 'Response']"
      ]
     },
     "execution_count": 296,
     "metadata": {},
     "output_type": "execute_result"
    }
   ],
   "source": [
    "cols_old = ['id', 'Gender', 'Age', 'Driving_License', 'Region_Code',\n",
    "               'Previously_Insured', 'Vehicle_Age', 'Vehicle_Damage', 'Annual_Premium',\n",
    "               'Policy_Sales_Channel', 'Vintage', 'Response']\n",
    "cols_old"
   ]
  },
  {
   "cell_type": "code",
   "execution_count": 297,
   "metadata": {
    "ExecuteTime": {
     "end_time": "2021-02-16T00:20:43.205411Z",
     "start_time": "2021-02-16T00:20:43.138178Z"
    },
    "hidden": true
   },
   "outputs": [],
   "source": [
    "snakecase = lambda x: inflection.underscore( x )\n",
    "\n",
    "cols_new = list( map( snakecase, cols_old ) )\n",
    "\n",
    "df2.columns = cols_new"
   ]
  },
  {
   "cell_type": "markdown",
   "metadata": {
    "heading_collapsed": true,
    "hidden": true
   },
   "source": [
    "## 2.2. Data Dimension"
   ]
  },
  {
   "cell_type": "code",
   "execution_count": 298,
   "metadata": {
    "ExecuteTime": {
     "end_time": "2021-02-16T00:20:43.276726Z",
     "start_time": "2021-02-16T00:20:43.209132Z"
    },
    "hidden": true
   },
   "outputs": [
    {
     "name": "stdout",
     "output_type": "stream",
     "text": [
      "The number of rows is: 381109\n",
      "The number of columns is: 12\n"
     ]
    }
   ],
   "source": [
    "print('The number of rows is: {}'.format( df2.shape[0] ))\n",
    "print('The number of columns is: {}'.format( df2.shape[1] ))"
   ]
  },
  {
   "cell_type": "markdown",
   "metadata": {
    "heading_collapsed": true,
    "hidden": true
   },
   "source": [
    "## 2.3. Data Types"
   ]
  },
  {
   "cell_type": "code",
   "execution_count": 299,
   "metadata": {
    "ExecuteTime": {
     "end_time": "2021-02-16T00:20:43.364474Z",
     "start_time": "2021-02-16T00:20:43.285404Z"
    },
    "hidden": true
   },
   "outputs": [
    {
     "data": {
      "text/plain": [
       "id                        int64\n",
       "gender                   object\n",
       "age                       int64\n",
       "driving_license           int64\n",
       "region_code             float64\n",
       "previously_insured        int64\n",
       "vehicle_age              object\n",
       "vehicle_damage           object\n",
       "annual_premium          float64\n",
       "policy_sales_channel    float64\n",
       "vintage                   int64\n",
       "response                  int64\n",
       "dtype: object"
      ]
     },
     "execution_count": 299,
     "metadata": {},
     "output_type": "execute_result"
    }
   ],
   "source": [
    "df2.dtypes"
   ]
  },
  {
   "cell_type": "markdown",
   "metadata": {
    "heading_collapsed": true,
    "hidden": true
   },
   "source": [
    "## 2.4. Check NA"
   ]
  },
  {
   "cell_type": "code",
   "execution_count": 300,
   "metadata": {
    "ExecuteTime": {
     "end_time": "2021-02-16T00:20:43.522004Z",
     "start_time": "2021-02-16T00:20:43.371345Z"
    },
    "hidden": true
   },
   "outputs": [
    {
     "data": {
      "text/plain": [
       "id                      0\n",
       "gender                  0\n",
       "age                     0\n",
       "driving_license         0\n",
       "region_code             0\n",
       "previously_insured      0\n",
       "vehicle_age             0\n",
       "vehicle_damage          0\n",
       "annual_premium          0\n",
       "policy_sales_channel    0\n",
       "vintage                 0\n",
       "response                0\n",
       "dtype: int64"
      ]
     },
     "execution_count": 300,
     "metadata": {},
     "output_type": "execute_result"
    }
   ],
   "source": [
    "df2.isna().sum()"
   ]
  },
  {
   "cell_type": "markdown",
   "metadata": {
    "ExecuteTime": {
     "end_time": "2021-02-16T00:19:07.298206Z",
     "start_time": "2021-02-16T00:19:07.291018Z"
    },
    "heading_collapsed": true,
    "hidden": true
   },
   "source": [
    "## 2.5. Change Types"
   ]
  },
  {
   "cell_type": "code",
   "execution_count": 301,
   "metadata": {
    "ExecuteTime": {
     "end_time": "2021-02-16T00:20:43.533652Z",
     "start_time": "2021-02-16T00:20:43.523997Z"
    },
    "hidden": true
   },
   "outputs": [],
   "source": [
    "# Check if can convert region_code from float to int\n",
    "aux1 = np.array( df2['region_code'] )\n",
    "aux2 = aux1.astype(int)\n",
    "np.sum( aux1 - aux2 )\n",
    "\n",
    "# Converting region_code from float to int\n",
    "df2['region_code'] = df2['region_code'].astype(int)"
   ]
  },
  {
   "cell_type": "markdown",
   "metadata": {
    "ExecuteTime": {
     "end_time": "2021-02-15T18:17:42.069886Z",
     "start_time": "2021-02-15T18:17:42.061715Z"
    },
    "hidden": true
   },
   "source": [
    "### vehicle_age"
   ]
  },
  {
   "cell_type": "markdown",
   "metadata": {
    "hidden": true
   },
   "source": [
    "vehicle_age is an object, we need to convert it to float. \n",
    "    \n",
    " It's necessary to assume numerical values for the:\n",
    "3 options\n",
    "\n",
    "< 1 Year  -->   0.5,  we assumed the mean value\n",
    "    \n",
    "1-2 Year  -->   1.5,  we assumed the mean value\n",
    "\n",
    "\\> 2 Year  -->   7.5, it's difficult to consider some mean value, so lets consider a number 5 times bigger than the previous\n"
   ]
  },
  {
   "cell_type": "code",
   "execution_count": 302,
   "metadata": {
    "ExecuteTime": {
     "end_time": "2021-02-16T00:20:44.147618Z",
     "start_time": "2021-02-16T00:20:43.535124Z"
    },
    "hidden": true
   },
   "outputs": [],
   "source": [
    "# Convert vehicle_age from object to float\n",
    "df2['vehicle_age'] = df2['vehicle_age'].apply(lambda x: 0.5 if x == '< 1 Year' else 1.5 if x =='1-2 Year' else 7.5)\n",
    "\n",
    "# Convert annual_premium from float to int\n",
    "df2['annual_premium'] = df2['annual_premium'].astype(int)\n",
    "\n",
    "# Convert policy_sales_channel from float to int\n",
    "df2['policy_sales_channel'] = df2['policy_sales_channel'].astype(int)\n",
    "\n",
    "# Convert vehicle_damage from object to int\n",
    "df2['vehicle_damage'] = df2['vehicle_damage'].apply(lambda x: 0 if x=='No' else 1)"
   ]
  },
  {
   "cell_type": "code",
   "execution_count": 303,
   "metadata": {
    "ExecuteTime": {
     "end_time": "2021-02-16T00:20:44.155382Z",
     "start_time": "2021-02-16T00:20:44.149196Z"
    },
    "hidden": true
   },
   "outputs": [
    {
     "data": {
      "text/plain": [
       "id                        int64\n",
       "gender                   object\n",
       "age                       int64\n",
       "driving_license           int64\n",
       "region_code               int64\n",
       "previously_insured        int64\n",
       "vehicle_age             float64\n",
       "vehicle_damage            int64\n",
       "annual_premium            int64\n",
       "policy_sales_channel      int64\n",
       "vintage                   int64\n",
       "response                  int64\n",
       "dtype: object"
      ]
     },
     "execution_count": 303,
     "metadata": {},
     "output_type": "execute_result"
    }
   ],
   "source": [
    "df2.dtypes"
   ]
  },
  {
   "cell_type": "markdown",
   "metadata": {
    "heading_collapsed": true,
    "hidden": true
   },
   "source": [
    "## 2.6. Descriptive Statistics"
   ]
  },
  {
   "cell_type": "markdown",
   "metadata": {
    "heading_collapsed": true,
    "hidden": true
   },
   "source": [
    "### Split data between Categorical and Numerical data "
   ]
  },
  {
   "cell_type": "code",
   "execution_count": 304,
   "metadata": {
    "ExecuteTime": {
     "end_time": "2021-02-16T00:20:44.282317Z",
     "start_time": "2021-02-16T00:20:44.158085Z"
    },
    "hidden": true
   },
   "outputs": [],
   "source": [
    "num_data = df2.select_dtypes( include = ['int64', 'float64'])\n",
    "num_data = num_data[ num_data.columns.difference(['id']) ]\n",
    "\n",
    "cat_data = df2.select_dtypes( exclude = ['int64', 'float64'])"
   ]
  },
  {
   "cell_type": "markdown",
   "metadata": {
    "ExecuteTime": {
     "end_time": "2021-02-15T22:02:44.424918Z",
     "start_time": "2021-02-15T22:02:44.413947Z"
    },
    "heading_collapsed": true,
    "hidden": true
   },
   "source": [
    "### Relevant metrics"
   ]
  },
  {
   "cell_type": "code",
   "execution_count": 305,
   "metadata": {
    "ExecuteTime": {
     "end_time": "2021-02-16T00:20:45.095970Z",
     "start_time": "2021-02-16T00:20:44.284095Z"
    },
    "hidden": true
   },
   "outputs": [],
   "source": [
    "num_mean = pd.DataFrame( num_data.apply( np.mean ) ).T\n",
    "num_std = pd.DataFrame( num_data.apply( np.std ) ).T\n",
    "num_median = pd.DataFrame( num_data.apply( np.median ) ).T\n",
    "num_min = pd.DataFrame( num_data.apply( min ) ).T\n",
    "num_max = pd.DataFrame( num_data.apply( max ) ).T\n",
    "num_range = pd.DataFrame( num_data.apply( lambda x: x.max() - x.min() ) ).T\n",
    "num_skew = pd.DataFrame( num_data.apply( lambda x: x.skew() ) ).T\n",
    "num_kurtosis = pd.DataFrame( num_data.apply( lambda x: x.kurtosis() ) ).T\n",
    "\n",
    "analysis_table = pd.concat( [num_mean, num_std, num_median, num_min, num_max, num_range, num_skew, num_kurtosis] ).T\n",
    "analysis_table.columns = ['mean', 'std', 'median', 'min', 'max', 'range', 'skew', 'kurtosis']"
   ]
  },
  {
   "cell_type": "code",
   "execution_count": 306,
   "metadata": {
    "ExecuteTime": {
     "end_time": "2021-02-16T00:20:45.114339Z",
     "start_time": "2021-02-16T00:20:45.097642Z"
    },
    "hidden": true
   },
   "outputs": [
    {
     "data": {
      "text/html": [
       "<div>\n",
       "<style scoped>\n",
       "    .dataframe tbody tr th:only-of-type {\n",
       "        vertical-align: middle;\n",
       "    }\n",
       "\n",
       "    .dataframe tbody tr th {\n",
       "        vertical-align: top;\n",
       "    }\n",
       "\n",
       "    .dataframe thead th {\n",
       "        text-align: right;\n",
       "    }\n",
       "</style>\n",
       "<table border=\"1\" class=\"dataframe\">\n",
       "  <thead>\n",
       "    <tr style=\"text-align: right;\">\n",
       "      <th></th>\n",
       "      <th>mean</th>\n",
       "      <th>std</th>\n",
       "      <th>median</th>\n",
       "      <th>min</th>\n",
       "      <th>max</th>\n",
       "      <th>range</th>\n",
       "      <th>skew</th>\n",
       "      <th>kurtosis</th>\n",
       "    </tr>\n",
       "  </thead>\n",
       "  <tbody>\n",
       "    <tr>\n",
       "      <th>age</th>\n",
       "      <td>38.822584</td>\n",
       "      <td>15.511591</td>\n",
       "      <td>36.0</td>\n",
       "      <td>20.0</td>\n",
       "      <td>85.0</td>\n",
       "      <td>65.0</td>\n",
       "      <td>0.672539</td>\n",
       "      <td>-0.565655</td>\n",
       "    </tr>\n",
       "    <tr>\n",
       "      <th>annual_premium</th>\n",
       "      <td>30564.389581</td>\n",
       "      <td>17213.132474</td>\n",
       "      <td>31669.0</td>\n",
       "      <td>2630.0</td>\n",
       "      <td>540165.0</td>\n",
       "      <td>537535.0</td>\n",
       "      <td>1.766087</td>\n",
       "      <td>34.004569</td>\n",
       "    </tr>\n",
       "    <tr>\n",
       "      <th>driving_license</th>\n",
       "      <td>0.997869</td>\n",
       "      <td>0.046109</td>\n",
       "      <td>1.0</td>\n",
       "      <td>0.0</td>\n",
       "      <td>1.0</td>\n",
       "      <td>1.0</td>\n",
       "      <td>-21.595182</td>\n",
       "      <td>464.354302</td>\n",
       "    </tr>\n",
       "    <tr>\n",
       "      <th>policy_sales_channel</th>\n",
       "      <td>112.034295</td>\n",
       "      <td>54.203924</td>\n",
       "      <td>133.0</td>\n",
       "      <td>1.0</td>\n",
       "      <td>163.0</td>\n",
       "      <td>162.0</td>\n",
       "      <td>-0.900008</td>\n",
       "      <td>-0.970810</td>\n",
       "    </tr>\n",
       "    <tr>\n",
       "      <th>previously_insured</th>\n",
       "      <td>0.458210</td>\n",
       "      <td>0.498251</td>\n",
       "      <td>0.0</td>\n",
       "      <td>0.0</td>\n",
       "      <td>1.0</td>\n",
       "      <td>1.0</td>\n",
       "      <td>0.167747</td>\n",
       "      <td>-1.971871</td>\n",
       "    </tr>\n",
       "    <tr>\n",
       "      <th>region_code</th>\n",
       "      <td>26.388807</td>\n",
       "      <td>13.229871</td>\n",
       "      <td>28.0</td>\n",
       "      <td>0.0</td>\n",
       "      <td>52.0</td>\n",
       "      <td>52.0</td>\n",
       "      <td>-0.115266</td>\n",
       "      <td>-0.867857</td>\n",
       "    </tr>\n",
       "    <tr>\n",
       "      <th>response</th>\n",
       "      <td>0.122563</td>\n",
       "      <td>0.327935</td>\n",
       "      <td>0.0</td>\n",
       "      <td>0.0</td>\n",
       "      <td>1.0</td>\n",
       "      <td>1.0</td>\n",
       "      <td>2.301906</td>\n",
       "      <td>3.298788</td>\n",
       "    </tr>\n",
       "    <tr>\n",
       "      <th>vehicle_age</th>\n",
       "      <td>1.319621</td>\n",
       "      <td>1.382711</td>\n",
       "      <td>1.5</td>\n",
       "      <td>0.5</td>\n",
       "      <td>7.5</td>\n",
       "      <td>7.0</td>\n",
       "      <td>3.661822</td>\n",
       "      <td>13.818435</td>\n",
       "    </tr>\n",
       "    <tr>\n",
       "      <th>vehicle_damage</th>\n",
       "      <td>0.504877</td>\n",
       "      <td>0.499976</td>\n",
       "      <td>1.0</td>\n",
       "      <td>0.0</td>\n",
       "      <td>1.0</td>\n",
       "      <td>1.0</td>\n",
       "      <td>-0.019507</td>\n",
       "      <td>-1.999630</td>\n",
       "    </tr>\n",
       "    <tr>\n",
       "      <th>vintage</th>\n",
       "      <td>154.347397</td>\n",
       "      <td>83.671194</td>\n",
       "      <td>154.0</td>\n",
       "      <td>10.0</td>\n",
       "      <td>299.0</td>\n",
       "      <td>289.0</td>\n",
       "      <td>0.003030</td>\n",
       "      <td>-1.200688</td>\n",
       "    </tr>\n",
       "  </tbody>\n",
       "</table>\n",
       "</div>"
      ],
      "text/plain": [
       "                              mean           std   median     min       max  \\\n",
       "age                      38.822584     15.511591     36.0    20.0      85.0   \n",
       "annual_premium        30564.389581  17213.132474  31669.0  2630.0  540165.0   \n",
       "driving_license           0.997869      0.046109      1.0     0.0       1.0   \n",
       "policy_sales_channel    112.034295     54.203924    133.0     1.0     163.0   \n",
       "previously_insured        0.458210      0.498251      0.0     0.0       1.0   \n",
       "region_code              26.388807     13.229871     28.0     0.0      52.0   \n",
       "response                  0.122563      0.327935      0.0     0.0       1.0   \n",
       "vehicle_age               1.319621      1.382711      1.5     0.5       7.5   \n",
       "vehicle_damage            0.504877      0.499976      1.0     0.0       1.0   \n",
       "vintage                 154.347397     83.671194    154.0    10.0     299.0   \n",
       "\n",
       "                         range       skew    kurtosis  \n",
       "age                       65.0   0.672539   -0.565655  \n",
       "annual_premium        537535.0   1.766087   34.004569  \n",
       "driving_license            1.0 -21.595182  464.354302  \n",
       "policy_sales_channel     162.0  -0.900008   -0.970810  \n",
       "previously_insured         1.0   0.167747   -1.971871  \n",
       "region_code               52.0  -0.115266   -0.867857  \n",
       "response                   1.0   2.301906    3.298788  \n",
       "vehicle_age                7.0   3.661822   13.818435  \n",
       "vehicle_damage             1.0  -0.019507   -1.999630  \n",
       "vintage                  289.0   0.003030   -1.200688  "
      ]
     },
     "execution_count": 306,
     "metadata": {},
     "output_type": "execute_result"
    }
   ],
   "source": [
    "analysis_table"
   ]
  },
  {
   "cell_type": "code",
   "execution_count": 307,
   "metadata": {
    "ExecuteTime": {
     "end_time": "2021-02-16T00:20:47.078864Z",
     "start_time": "2021-02-16T00:20:45.116106Z"
    },
    "hidden": true
   },
   "outputs": [
    {
     "data": {
      "text/plain": [
       "(1.0, 100000.0)"
      ]
     },
     "execution_count": 307,
     "metadata": {},
     "output_type": "execute_result"
    },
    {
     "data": {
      "image/png": "[encoded data removed]",
      "text/plain": [
       "<Figure size 576x576 with 1 Axes>"
      ]
     },
     "metadata": {
      "needs_background": "light"
     },
     "output_type": "display_data"
    }
   ],
   "source": [
    "plt.figure(figsize=(8,8))\n",
    "plt.xticks( np.arange(0, 100000, 5000), rotation=-30 )\n",
    "plt.axvline(x=num_mean['annual_premium'][0], ymin=0, ymax=1, label='mean', color='r')\n",
    "plt.axvline(x=num_median['annual_premium'][0], ymin=0, ymax=1, label='median', color='g')\n",
    "plt.legend()\n",
    "sns.distplot( df2['annual_premium'] ).set_xlim(1,100000)"
   ]
  },
  {
   "cell_type": "code",
   "execution_count": 308,
   "metadata": {
    "ExecuteTime": {
     "end_time": "2021-02-16T00:20:47.120799Z",
     "start_time": "2021-02-16T00:20:47.081817Z"
    },
    "hidden": true
   },
   "outputs": [
    {
     "data": {
      "text/plain": [
       "gender    2\n",
       "dtype: int64"
      ]
     },
     "execution_count": 308,
     "metadata": {},
     "output_type": "execute_result"
    }
   ],
   "source": [
    "# Amount of categories in each categorical variable\n",
    "cat_data.apply( lambda x: x.unique().shape[0] )"
   ]
  },
  {
   "cell_type": "markdown",
   "metadata": {
    "hidden": true
   },
   "source": [
    "#### Boxplots"
   ]
  },
  {
   "cell_type": "code",
   "execution_count": 309,
   "metadata": {
    "ExecuteTime": {
     "end_time": "2021-02-16T00:20:48.040219Z",
     "start_time": "2021-02-16T00:20:47.127560Z"
    },
    "hidden": true
   },
   "outputs": [
    {
     "ename": "ValueError",
     "evalue": "min() arg is an empty sequence",
     "output_type": "error",
     "traceback": [
      "\u001b[0;31m---------------------------------------------------------------------------\u001b[0m",
      "\u001b[0;31mValueError\u001b[0m                                Traceback (most recent call last)",
      "\u001b[0;32m<ipython-input-309-e49db4ebbb4f>\u001b[0m in \u001b[0;36m<module>\u001b[0;34m\u001b[0m\n\u001b[1;32m     12\u001b[0m \u001b[0mplt\u001b[0m\u001b[0;34m.\u001b[0m\u001b[0msubplot\u001b[0m\u001b[0;34m(\u001b[0m\u001b[0;36m2\u001b[0m\u001b[0;34m,\u001b[0m\u001b[0;36m2\u001b[0m\u001b[0;34m,\u001b[0m\u001b[0;36m3\u001b[0m\u001b[0;34m)\u001b[0m\u001b[0;34m\u001b[0m\u001b[0;34m\u001b[0m\u001b[0m\n\u001b[1;32m     13\u001b[0m \u001b[0maux3\u001b[0m \u001b[0;34m=\u001b[0m \u001b[0mdf2\u001b[0m\u001b[0;34m[\u001b[0m \u001b[0mdf2\u001b[0m\u001b[0;34m[\u001b[0m\u001b[0;34m'vehicle_damage'\u001b[0m\u001b[0;34m]\u001b[0m \u001b[0;34m==\u001b[0m \u001b[0;34m'Yes'\u001b[0m \u001b[0;34m]\u001b[0m\u001b[0;34m\u001b[0m\u001b[0;34m\u001b[0m\u001b[0m\n\u001b[0;32m---> 14\u001b[0;31m \u001b[0msns\u001b[0m\u001b[0;34m.\u001b[0m\u001b[0mcountplot\u001b[0m\u001b[0;34m(\u001b[0m \u001b[0maux3\u001b[0m\u001b[0;34m[\u001b[0m\u001b[0;34m'response'\u001b[0m\u001b[0;34m]\u001b[0m \u001b[0;34m)\u001b[0m\u001b[0;34m.\u001b[0m\u001b[0mset_title\u001b[0m\u001b[0;34m(\u001b[0m\u001b[0;34m'Insurance acceptance of people who already had a vehicle damage'\u001b[0m\u001b[0;34m)\u001b[0m\u001b[0;34m\u001b[0m\u001b[0;34m\u001b[0m\u001b[0m\n\u001b[0m\u001b[1;32m     15\u001b[0m \u001b[0;34m\u001b[0m\u001b[0m\n\u001b[1;32m     16\u001b[0m \u001b[0mplt\u001b[0m\u001b[0;34m.\u001b[0m\u001b[0msubplot\u001b[0m\u001b[0;34m(\u001b[0m\u001b[0;36m2\u001b[0m\u001b[0;34m,\u001b[0m\u001b[0;36m2\u001b[0m\u001b[0;34m,\u001b[0m\u001b[0;36m4\u001b[0m\u001b[0;34m)\u001b[0m\u001b[0;34m\u001b[0m\u001b[0;34m\u001b[0m\u001b[0m\n",
      "\u001b[0;32m~/.local/lib/python3.6/site-packages/seaborn/_decorators.py\u001b[0m in \u001b[0;36minner_f\u001b[0;34m(*args, **kwargs)\u001b[0m\n\u001b[1;32m     44\u001b[0m             )\n\u001b[1;32m     45\u001b[0m         \u001b[0mkwargs\u001b[0m\u001b[0;34m.\u001b[0m\u001b[0mupdate\u001b[0m\u001b[0;34m(\u001b[0m\u001b[0;34m{\u001b[0m\u001b[0mk\u001b[0m\u001b[0;34m:\u001b[0m \u001b[0marg\u001b[0m \u001b[0;32mfor\u001b[0m \u001b[0mk\u001b[0m\u001b[0;34m,\u001b[0m \u001b[0marg\u001b[0m \u001b[0;32min\u001b[0m \u001b[0mzip\u001b[0m\u001b[0;34m(\u001b[0m\u001b[0msig\u001b[0m\u001b[0;34m.\u001b[0m\u001b[0mparameters\u001b[0m\u001b[0;34m,\u001b[0m \u001b[0margs\u001b[0m\u001b[0;34m)\u001b[0m\u001b[0;34m}\u001b[0m\u001b[0;34m)\u001b[0m\u001b[0;34m\u001b[0m\u001b[0;34m\u001b[0m\u001b[0m\n\u001b[0;32m---> 46\u001b[0;31m         \u001b[0;32mreturn\u001b[0m \u001b[0mf\u001b[0m\u001b[0;34m(\u001b[0m\u001b[0;34m**\u001b[0m\u001b[0mkwargs\u001b[0m\u001b[0;34m)\u001b[0m\u001b[0;34m\u001b[0m\u001b[0;34m\u001b[0m\u001b[0m\n\u001b[0m\u001b[1;32m     47\u001b[0m     \u001b[0;32mreturn\u001b[0m \u001b[0minner_f\u001b[0m\u001b[0;34m\u001b[0m\u001b[0;34m\u001b[0m\u001b[0m\n\u001b[1;32m     48\u001b[0m \u001b[0;34m\u001b[0m\u001b[0m\n",
      "\u001b[0;32m~/.local/lib/python3.6/site-packages/seaborn/categorical.py\u001b[0m in \u001b[0;36mcountplot\u001b[0;34m(x, y, hue, data, order, hue_order, orient, color, palette, saturation, dodge, ax, **kwargs)\u001b[0m\n\u001b[1;32m   3587\u001b[0m         \u001b[0mestimator\u001b[0m\u001b[0;34m,\u001b[0m \u001b[0mci\u001b[0m\u001b[0;34m,\u001b[0m \u001b[0mn_boot\u001b[0m\u001b[0;34m,\u001b[0m \u001b[0munits\u001b[0m\u001b[0;34m,\u001b[0m \u001b[0mseed\u001b[0m\u001b[0;34m,\u001b[0m\u001b[0;34m\u001b[0m\u001b[0;34m\u001b[0m\u001b[0m\n\u001b[1;32m   3588\u001b[0m         \u001b[0morient\u001b[0m\u001b[0;34m,\u001b[0m \u001b[0mcolor\u001b[0m\u001b[0;34m,\u001b[0m \u001b[0mpalette\u001b[0m\u001b[0;34m,\u001b[0m \u001b[0msaturation\u001b[0m\u001b[0;34m,\u001b[0m\u001b[0;34m\u001b[0m\u001b[0;34m\u001b[0m\u001b[0m\n\u001b[0;32m-> 3589\u001b[0;31m         \u001b[0merrcolor\u001b[0m\u001b[0;34m,\u001b[0m \u001b[0merrwidth\u001b[0m\u001b[0;34m,\u001b[0m \u001b[0mcapsize\u001b[0m\u001b[0;34m,\u001b[0m \u001b[0mdodge\u001b[0m\u001b[0;34m\u001b[0m\u001b[0;34m\u001b[0m\u001b[0m\n\u001b[0m\u001b[1;32m   3590\u001b[0m     )\n\u001b[1;32m   3591\u001b[0m \u001b[0;34m\u001b[0m\u001b[0m\n",
      "\u001b[0;32m~/.local/lib/python3.6/site-packages/seaborn/categorical.py\u001b[0m in \u001b[0;36m__init__\u001b[0;34m(self, x, y, hue, data, order, hue_order, estimator, ci, n_boot, units, seed, orient, color, palette, saturation, errcolor, errwidth, capsize, dodge)\u001b[0m\n\u001b[1;32m   1584\u001b[0m         self.establish_variables(x, y, hue, data, orient,\n\u001b[1;32m   1585\u001b[0m                                  order, hue_order, units)\n\u001b[0;32m-> 1586\u001b[0;31m         \u001b[0mself\u001b[0m\u001b[0;34m.\u001b[0m\u001b[0mestablish_colors\u001b[0m\u001b[0;34m(\u001b[0m\u001b[0mcolor\u001b[0m\u001b[0;34m,\u001b[0m \u001b[0mpalette\u001b[0m\u001b[0;34m,\u001b[0m \u001b[0msaturation\u001b[0m\u001b[0;34m)\u001b[0m\u001b[0;34m\u001b[0m\u001b[0;34m\u001b[0m\u001b[0m\n\u001b[0m\u001b[1;32m   1587\u001b[0m         \u001b[0mself\u001b[0m\u001b[0;34m.\u001b[0m\u001b[0mestimate_statistic\u001b[0m\u001b[0;34m(\u001b[0m\u001b[0mestimator\u001b[0m\u001b[0;34m,\u001b[0m \u001b[0mci\u001b[0m\u001b[0;34m,\u001b[0m \u001b[0mn_boot\u001b[0m\u001b[0;34m,\u001b[0m \u001b[0mseed\u001b[0m\u001b[0;34m)\u001b[0m\u001b[0;34m\u001b[0m\u001b[0;34m\u001b[0m\u001b[0m\n\u001b[1;32m   1588\u001b[0m \u001b[0;34m\u001b[0m\u001b[0m\n",
      "\u001b[0;32m~/.local/lib/python3.6/site-packages/seaborn/categorical.py\u001b[0m in \u001b[0;36mestablish_colors\u001b[0;34m(self, color, palette, saturation)\u001b[0m\n\u001b[1;32m    317\u001b[0m         \u001b[0;31m# Determine the gray color to use for the lines framing the plot\u001b[0m\u001b[0;34m\u001b[0m\u001b[0;34m\u001b[0m\u001b[0;34m\u001b[0m\u001b[0m\n\u001b[1;32m    318\u001b[0m         \u001b[0mlight_vals\u001b[0m \u001b[0;34m=\u001b[0m \u001b[0;34m[\u001b[0m\u001b[0mcolorsys\u001b[0m\u001b[0;34m.\u001b[0m\u001b[0mrgb_to_hls\u001b[0m\u001b[0;34m(\u001b[0m\u001b[0;34m*\u001b[0m\u001b[0mc\u001b[0m\u001b[0;34m)\u001b[0m\u001b[0;34m[\u001b[0m\u001b[0;36m1\u001b[0m\u001b[0;34m]\u001b[0m \u001b[0;32mfor\u001b[0m \u001b[0mc\u001b[0m \u001b[0;32min\u001b[0m \u001b[0mrgb_colors\u001b[0m\u001b[0;34m]\u001b[0m\u001b[0;34m\u001b[0m\u001b[0;34m\u001b[0m\u001b[0m\n\u001b[0;32m--> 319\u001b[0;31m         \u001b[0mlum\u001b[0m \u001b[0;34m=\u001b[0m \u001b[0mmin\u001b[0m\u001b[0;34m(\u001b[0m\u001b[0mlight_vals\u001b[0m\u001b[0;34m)\u001b[0m \u001b[0;34m*\u001b[0m \u001b[0;36m.6\u001b[0m\u001b[0;34m\u001b[0m\u001b[0;34m\u001b[0m\u001b[0m\n\u001b[0m\u001b[1;32m    320\u001b[0m         \u001b[0mgray\u001b[0m \u001b[0;34m=\u001b[0m \u001b[0mmpl\u001b[0m\u001b[0;34m.\u001b[0m\u001b[0mcolors\u001b[0m\u001b[0;34m.\u001b[0m\u001b[0mrgb2hex\u001b[0m\u001b[0;34m(\u001b[0m\u001b[0;34m(\u001b[0m\u001b[0mlum\u001b[0m\u001b[0;34m,\u001b[0m \u001b[0mlum\u001b[0m\u001b[0;34m,\u001b[0m \u001b[0mlum\u001b[0m\u001b[0;34m)\u001b[0m\u001b[0;34m)\u001b[0m\u001b[0;34m\u001b[0m\u001b[0;34m\u001b[0m\u001b[0m\n\u001b[1;32m    321\u001b[0m \u001b[0;34m\u001b[0m\u001b[0m\n",
      "\u001b[0;31mValueError\u001b[0m: min() arg is an empty sequence"
     ]
    },
    {
     "data": {
      "image/png": "[encoded data removed]",
      "text/plain": [
       "<Figure size 864x1440 with 3 Axes>"
      ]
     },
     "metadata": {
      "needs_background": "light"
     },
     "output_type": "display_data"
    }
   ],
   "source": [
    "plt.figure(figsize=(12,20))\n",
    "plt.subplots_adjust(left=None, bottom=None, right=2, top=None, wspace=None, hspace=None)\n",
    "\n",
    "plt.subplot(2,2,1)\n",
    "aux = df2[ df2['gender'] == 'Male' ]\n",
    "sns.countplot( aux['response'] ).set_title('Men\\'s insurance acceptance')\n",
    "\n",
    "plt.subplot(2,2,2)\n",
    "aux2 = df2[ df2['gender'] == 'Female' ]\n",
    "sns.countplot( aux2['response'] ).set_title('Women\\'s insurance acceptance')\n",
    "\n",
    "plt.subplot(2,2,3)\n",
    "aux3 = df2[ df2['vehicle_damage'] == 'Yes' ]\n",
    "sns.countplot( aux3['response'] ).set_title('Insurance acceptance of people who already had a vehicle damage')\n",
    "\n",
    "plt.subplot(2,2,4)\n",
    "aux4 = df2[ df2['vehicle_damage'] == 'No' ]\n",
    "sns.countplot( aux4['response'] ).set_title('Insurance acceptance of people who have never had a vehicle damage')\n"
   ]
  },
  {
   "cell_type": "code",
   "execution_count": null,
   "metadata": {
    "ExecuteTime": {
     "end_time": "2021-02-16T00:20:48.042545Z",
     "start_time": "2021-02-16T00:20:40.822Z"
    },
    "hidden": true
   },
   "outputs": [],
   "source": [
    "cat_data"
   ]
  },
  {
   "cell_type": "markdown",
   "metadata": {},
   "source": [
    "# 3.0. Feature Engineering"
   ]
  },
  {
   "cell_type": "code",
   "execution_count": 310,
   "metadata": {
    "ExecuteTime": {
     "end_time": "2021-02-16T00:21:28.464991Z",
     "start_time": "2021-02-16T00:21:28.435084Z"
    }
   },
   "outputs": [],
   "source": [
    "df3 = df2.copy()"
   ]
  },
  {
   "cell_type": "code",
   "execution_count": 311,
   "metadata": {
    "ExecuteTime": {
     "end_time": "2021-02-16T00:21:29.227597Z",
     "start_time": "2021-02-16T00:21:28.943017Z"
    }
   },
   "outputs": [
    {
     "data": {
      "image/png": "[encoded data removed]",
      "text/plain": [
       "<IPython.core.display.Image object>"
      ]
     },
     "execution_count": 311,
     "metadata": {},
     "output_type": "execute_result"
    }
   ],
   "source": [
    "Image('img/CAR_INSURANCE_MIND_MAP.png')"
   ]
  },
  {
   "cell_type": "markdown",
   "metadata": {},
   "source": [
    "## 3.1. Hypothesis creation"
   ]
  },
  {
   "cell_type": "markdown",
   "metadata": {},
   "source": [
    "### 3.1.1. Hypothesis about the client"
   ]
  },
  {
   "cell_type": "markdown",
   "metadata": {},
   "source": [
    "**1.** Clients with higher VINTAGE, have higher chances of accepting a new service from the company.\n",
    "\n",
    "**2.** Clients that already have a car's insurance have lower chances of accepting another car's insurance.\n",
    "\n",
    "**3.** Clients that have a driving license are more proned to accept a car's insurance, than those that dont have one.\n",
    "\n",
    "**4.** Clients that are young have higher chances of purchasing a car's insurance.\n",
    "\n",
    "**5.** Clients who live in dangerous areas are more proned to purchase a car's insurance.\n",
    "\n",
    "**6.** Clients whose annual premium is expensive, tends to not purchase a car's insurance."
   ]
  },
  {
   "cell_type": "markdown",
   "metadata": {},
   "source": [
    "### 3.1.2. Hypothesis about the vehicle"
   ]
  },
  {
   "cell_type": "markdown",
   "metadata": {},
   "source": [
    "**1.** Clients whose vehicle is new are more proned to purchase a car's insurance.\n",
    "\n",
    "**2.** Clients whose vehicle has been already damaged, tends to purchase a car's insurance."
   ]
  },
  {
   "cell_type": "markdown",
   "metadata": {
    "ExecuteTime": {
     "end_time": "2021-02-16T00:02:41.941373Z",
     "start_time": "2021-02-16T00:02:41.937677Z"
    }
   },
   "source": [
    "## 3.2. Final hypothesis list"
   ]
  },
  {
   "cell_type": "markdown",
   "metadata": {},
   "source": [
    "Choose the hypothesis that the needed data are available for prediction."
   ]
  },
  {
   "cell_type": "markdown",
   "metadata": {
    "ExecuteTime": {
     "end_time": "2021-02-16T00:04:49.315035Z",
     "start_time": "2021-02-16T00:04:49.293443Z"
    }
   },
   "source": [
    "**1.** Clients with higher VINTAGE, have higher chances of accepting a new service from the company.\n",
    "\n",
    "**2.** Clients that already have a car's insurance have lower chances of accepting another car's insurance.\n",
    "\n",
    "**3.** Clients that have a driving license are more proned to accept a car's insurance, than those that dont have one.\n",
    "\n",
    "**4.** Clients that are young have higher chances of purchasing a car's insurance.\n",
    "\n",
    "**5.** Clients who live in dangerous areas are more proned to purchase a car's insurance.\n",
    "\n",
    "**6.** Clients whose annual premium is expensive, tends to not purchase a car's insurance.\n",
    "\n",
    "**7.** Clients whose vehicle is new are more proned to purchase a car's insurance.\n",
    "\n",
    "**8.** Clients whose vehicle has been already damaged, tends to purchase a car's insurance."
   ]
  },
  {
   "cell_type": "code",
   "execution_count": 312,
   "metadata": {
    "ExecuteTime": {
     "end_time": "2021-02-16T00:21:32.875586Z",
     "start_time": "2021-02-16T00:21:32.815515Z"
    }
   },
   "outputs": [
    {
     "data": {
      "text/html": [
       "<div>\n",
       "<style scoped>\n",
       "    .dataframe tbody tr th:only-of-type {\n",
       "        vertical-align: middle;\n",
       "    }\n",
       "\n",
       "    .dataframe tbody tr th {\n",
       "        vertical-align: top;\n",
       "    }\n",
       "\n",
       "    .dataframe thead th {\n",
       "        text-align: right;\n",
       "    }\n",
       "</style>\n",
       "<table border=\"1\" class=\"dataframe\">\n",
       "  <thead>\n",
       "    <tr style=\"text-align: right;\">\n",
       "      <th></th>\n",
       "      <th>id</th>\n",
       "      <th>gender</th>\n",
       "      <th>age</th>\n",
       "      <th>driving_license</th>\n",
       "      <th>region_code</th>\n",
       "      <th>previously_insured</th>\n",
       "      <th>vehicle_age</th>\n",
       "      <th>vehicle_damage</th>\n",
       "      <th>annual_premium</th>\n",
       "      <th>policy_sales_channel</th>\n",
       "      <th>vintage</th>\n",
       "      <th>response</th>\n",
       "    </tr>\n",
       "  </thead>\n",
       "  <tbody>\n",
       "    <tr>\n",
       "      <th>361056</th>\n",
       "      <td>361057</td>\n",
       "      <td>Female</td>\n",
       "      <td>43</td>\n",
       "      <td>1</td>\n",
       "      <td>46</td>\n",
       "      <td>0</td>\n",
       "      <td>0.5</td>\n",
       "      <td>1</td>\n",
       "      <td>39111</td>\n",
       "      <td>26</td>\n",
       "      <td>122</td>\n",
       "      <td>1</td>\n",
       "    </tr>\n",
       "  </tbody>\n",
       "</table>\n",
       "</div>"
      ],
      "text/plain": [
       "            id  gender  age  driving_license  region_code  previously_insured  \\\n",
       "361056  361057  Female   43                1           46                   0   \n",
       "\n",
       "        vehicle_age  vehicle_damage  annual_premium  policy_sales_channel  \\\n",
       "361056          0.5               1           39111                    26   \n",
       "\n",
       "        vintage  response  \n",
       "361056      122         1  "
      ]
     },
     "execution_count": 312,
     "metadata": {},
     "output_type": "execute_result"
    }
   ],
   "source": [
    "df3.sample()"
   ]
  },
  {
   "cell_type": "markdown",
   "metadata": {
    "ExecuteTime": {
     "end_time": "2021-02-16T00:23:29.542920Z",
     "start_time": "2021-02-16T00:23:29.531528Z"
    }
   },
   "source": [
    "## 3.3. Deriving New Variables"
   ]
  },
  {
   "cell_type": "markdown",
   "metadata": {},
   "source": [
    "# 4.0. Variables Filtering"
   ]
  },
  {
   "cell_type": "code",
   "execution_count": null,
   "metadata": {},
   "outputs": [],
   "source": []
  },
  {
   "cell_type": "code",
   "execution_count": null,
   "metadata": {},
   "outputs": [],
   "source": []
  },
  {
   "cell_type": "code",
   "execution_count": null,
   "metadata": {},
   "outputs": [],
   "source": []
  }
 ],
 "metadata": {
  "kernelspec": {
   "display_name": "Python 3",
   "language": "python",
   "name": "python3"
  },
  "language_info": {
   "codemirror_mode": {
    "name": "ipython",
    "version": 3
   },
   "file_extension": ".py",
   "mimetype": "text/x-python",
   "name": "python",
   "nbconvert_exporter": "python",
   "pygments_lexer": "ipython3",
   "version": "3.6.9"
  }
 },
 "nbformat": 4,
 "nbformat_minor": 4
}
