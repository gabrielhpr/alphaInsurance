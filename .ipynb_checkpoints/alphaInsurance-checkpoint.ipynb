{
 "cells": [
  {
   "cell_type": "markdown",
   "metadata": {
    "heading_collapsed": true
   },
   "source": [
    "# 0.0. Mission"
   ]
  },
  {
   "cell_type": "markdown",
   "metadata": {
    "ExecuteTime": {
     "end_time": "2021-02-11T17:00:14.900033Z",
     "start_time": "2021-02-11T17:00:14.896006Z"
    },
    "heading_collapsed": true,
    "hidden": true
   },
   "source": [
    "## Context"
   ]
  },
  {
   "cell_type": "markdown",
   "metadata": {
    "hidden": true
   },
   "source": [
    "<p> Alpha Insurance is a company that provides health insurance to their customers. With the goal of improving <br> their revenue the product team is thinking about \n",
    "the possibility of offering car insurance to its customers.</p>\n",
    "\n",
    "<p>The enterprise has made a research with over 380,000 customers to know their intention\n",
    "in purchasing the new <br> service. The product team has selected another 127,000 customers\n",
    "that the sales team will try to sell the new service. </p>\n",
    "    \n",
    "<p>As the sales team cannot get in touch with all of the selected customers during the campaign time,\n",
    "they need to <br> give priority to those clients that are more likely to purchase the service. So \n",
    "they need a data scientist to select the <br> 20,000 more interested customers. </p>"
   ]
  },
  {
   "cell_type": "markdown",
   "metadata": {
    "heading_collapsed": true,
    "hidden": true
   },
   "source": [
    "## Challenge"
   ]
  },
  {
   "cell_type": "markdown",
   "metadata": {
    "hidden": true
   },
   "source": [
    "<b>Select the 20,000 customers, that are more interested in buying the car insurance.</b>"
   ]
  },
  {
   "cell_type": "markdown",
   "metadata": {
    "heading_collapsed": true
   },
   "source": [
    "# 1.0. Preparing Process"
   ]
  },
  {
   "cell_type": "markdown",
   "metadata": {
    "heading_collapsed": true,
    "hidden": true
   },
   "source": [
    "## 1.1. IMPORTS"
   ]
  },
  {
   "cell_type": "code",
   "execution_count": 1,
   "metadata": {
    "ExecuteTime": {
     "end_time": "2021-02-17T01:42:12.984507Z",
     "start_time": "2021-02-17T01:42:12.004176Z"
    },
    "hidden": true
   },
   "outputs": [
    {
     "data": {
      "text/html": [
       "<style>.container { width:100% !important; }</style>"
      ],
      "text/plain": [
       "<IPython.core.display.HTML object>"
      ]
     },
     "metadata": {},
     "output_type": "display_data"
    },
    {
     "data": {
      "text/html": [
       "<style>h1 { font-size:23px !important; }</style>"
      ],
      "text/plain": [
       "<IPython.core.display.HTML object>"
      ]
     },
     "metadata": {},
     "output_type": "display_data"
    },
    {
     "data": {
      "text/html": [
       "<style>h2 { font-size:20px !important; }</style>"
      ],
      "text/plain": [
       "<IPython.core.display.HTML object>"
      ]
     },
     "metadata": {},
     "output_type": "display_data"
    },
    {
     "data": {
      "text/html": [
       "<style>h3 { font-size:17px !important; }</style>"
      ],
      "text/plain": [
       "<IPython.core.display.HTML object>"
      ]
     },
     "metadata": {},
     "output_type": "display_data"
    },
    {
     "data": {
      "text/html": [
       "<style>h4 { font-size:16px !important; }</style>"
      ],
      "text/plain": [
       "<IPython.core.display.HTML object>"
      ]
     },
     "metadata": {},
     "output_type": "display_data"
    },
    {
     "data": {
      "text/html": [
       "<style>p { font-size:16px !important; }</style>"
      ],
      "text/plain": [
       "<IPython.core.display.HTML object>"
      ]
     },
     "metadata": {},
     "output_type": "display_data"
    },
    {
     "data": {
      "text/html": [
       "<style>th { font-size:15px !important; }</style>"
      ],
      "text/plain": [
       "<IPython.core.display.HTML object>"
      ]
     },
     "metadata": {},
     "output_type": "display_data"
    },
    {
     "data": {
      "text/html": [
       "<style>td { font-size:15px !important; }</style>"
      ],
      "text/plain": [
       "<IPython.core.display.HTML object>"
      ]
     },
     "metadata": {},
     "output_type": "display_data"
    },
    {
     "data": {
      "text/html": [
       "<style>span { font-size:16px !important; }</style>"
      ],
      "text/plain": [
       "<IPython.core.display.HTML object>"
      ]
     },
     "metadata": {},
     "output_type": "display_data"
    }
   ],
   "source": [
    "import math\n",
    "import datetime\n",
    "import inflection\n",
    "import numpy as np\n",
    "import pandas as pd\n",
    "import random\n",
    "import matplotlib.pyplot as plt\n",
    "import seaborn as sns\n",
    "import warnings\n",
    "warnings.simplefilter(action='ignore', category=FutureWarning)\n",
    "from IPython.display         import Image\n",
    "\n",
    "\n",
    "\n",
    "###--------- PANDAS - EXIBIR TODAS COLUNAS ----###\n",
    "\n",
    "pd.set_option('display.max_columns', None)\n",
    "\n",
    "\n",
    "###--------- ESTILIZAÇÃO DO NOTEBOOK ---------###\n",
    "\n",
    "from IPython.core.display import display, HTML\n",
    "\n",
    "# retira a margem do notebook\n",
    "display(HTML(\"<style>.container { width:100% !important; }</style>\"))\n",
    "\n",
    "# font do texto markdown\n",
    "display(HTML(\"<style>h1 { font-size:23px !important; }</style>\"))\n",
    "display(HTML(\"<style>h2 { font-size:20px !important; }</style>\"))\n",
    "display(HTML(\"<style>h3 { font-size:17px !important; }</style>\"))\n",
    "display(HTML(\"<style>h4 { font-size:16px !important; }</style>\"))\n",
    "display(HTML(\"<style>p { font-size:16px !important; }</style>\"))\n",
    "\n",
    "# tamanho da fonte da tabela\n",
    "display(HTML(\"<style>th { font-size:15px !important; }</style>\"))\n",
    "display(HTML(\"<style>td { font-size:15px !important; }</style>\"))\n",
    "\n",
    "# font do codigo \n",
    "display(HTML(\"<style>span { font-size:16px !important; }</style>\"))"
   ]
  },
  {
   "cell_type": "markdown",
   "metadata": {
    "hidden": true
   },
   "source": [
    "## 1.2. Helper Functions"
   ]
  },
  {
   "cell_type": "markdown",
   "metadata": {
    "heading_collapsed": true,
    "hidden": true
   },
   "source": [
    "## 1.3. Loading Data"
   ]
  },
  {
   "cell_type": "code",
   "execution_count": 2,
   "metadata": {
    "ExecuteTime": {
     "end_time": "2021-02-17T01:42:13.426041Z",
     "start_time": "2021-02-17T01:42:12.986753Z"
    },
    "hidden": true
   },
   "outputs": [],
   "source": [
    "train_raw_data = pd.read_csv('data/train.csv', low_memory=False)\n",
    "test_raw_data = pd.read_csv('data/test.csv', low_memory=False)"
   ]
  },
  {
   "cell_type": "code",
   "execution_count": 3,
   "metadata": {
    "ExecuteTime": {
     "end_time": "2021-02-17T01:42:13.502499Z",
     "start_time": "2021-02-17T01:42:13.429073Z"
    },
    "hidden": true
   },
   "outputs": [
    {
     "data": {
      "text/html": [
       "<div>\n",
       "<style scoped>\n",
       "    .dataframe tbody tr th:only-of-type {\n",
       "        vertical-align: middle;\n",
       "    }\n",
       "\n",
       "    .dataframe tbody tr th {\n",
       "        vertical-align: top;\n",
       "    }\n",
       "\n",
       "    .dataframe thead th {\n",
       "        text-align: right;\n",
       "    }\n",
       "</style>\n",
       "<table border=\"1\" class=\"dataframe\">\n",
       "  <thead>\n",
       "    <tr style=\"text-align: right;\">\n",
       "      <th></th>\n",
       "      <th>id</th>\n",
       "      <th>Gender</th>\n",
       "      <th>Age</th>\n",
       "      <th>Driving_License</th>\n",
       "      <th>Region_Code</th>\n",
       "      <th>Previously_Insured</th>\n",
       "      <th>Vehicle_Age</th>\n",
       "      <th>Vehicle_Damage</th>\n",
       "      <th>Annual_Premium</th>\n",
       "      <th>Policy_Sales_Channel</th>\n",
       "      <th>Vintage</th>\n",
       "      <th>Response</th>\n",
       "    </tr>\n",
       "  </thead>\n",
       "  <tbody>\n",
       "    <tr>\n",
       "      <th>31912</th>\n",
       "      <td>31913</td>\n",
       "      <td>Male</td>\n",
       "      <td>38</td>\n",
       "      <td>1</td>\n",
       "      <td>28.0</td>\n",
       "      <td>1</td>\n",
       "      <td>1-2 Year</td>\n",
       "      <td>No</td>\n",
       "      <td>26314.0</td>\n",
       "      <td>26.0</td>\n",
       "      <td>16</td>\n",
       "      <td>0</td>\n",
       "    </tr>\n",
       "  </tbody>\n",
       "</table>\n",
       "</div>"
      ],
      "text/plain": [
       "          id Gender  Age  Driving_License  Region_Code  Previously_Insured  \\\n",
       "31912  31913   Male   38                1         28.0                   1   \n",
       "\n",
       "      Vehicle_Age Vehicle_Damage  Annual_Premium  Policy_Sales_Channel  \\\n",
       "31912    1-2 Year             No         26314.0                  26.0   \n",
       "\n",
       "       Vintage  Response  \n",
       "31912       16         0  "
      ]
     },
     "execution_count": 3,
     "metadata": {},
     "output_type": "execute_result"
    }
   ],
   "source": [
    "train_raw_data.sample()"
   ]
  },
  {
   "cell_type": "markdown",
   "metadata": {},
   "source": [
    "# 2.0. Data Description"
   ]
  },
  {
   "cell_type": "code",
   "execution_count": 4,
   "metadata": {
    "ExecuteTime": {
     "end_time": "2021-02-17T01:42:14.260127Z",
     "start_time": "2021-02-17T01:42:13.510523Z"
    }
   },
   "outputs": [],
   "source": [
    "df2 = train_raw_data.copy()"
   ]
  },
  {
   "cell_type": "markdown",
   "metadata": {
    "heading_collapsed": true
   },
   "source": [
    "## 2.1. Rename Columns"
   ]
  },
  {
   "cell_type": "code",
   "execution_count": 5,
   "metadata": {
    "ExecuteTime": {
     "end_time": "2021-02-17T01:42:14.277531Z",
     "start_time": "2021-02-17T01:42:14.267210Z"
    },
    "hidden": true
   },
   "outputs": [
    {
     "data": {
      "text/plain": [
       "['id',\n",
       " 'Gender',\n",
       " 'Age',\n",
       " 'Driving_License',\n",
       " 'Region_Code',\n",
       " 'Previously_Insured',\n",
       " 'Vehicle_Age',\n",
       " 'Vehicle_Damage',\n",
       " 'Annual_Premium',\n",
       " 'Policy_Sales_Channel',\n",
       " 'Vintage',\n",
       " 'Response']"
      ]
     },
     "execution_count": 5,
     "metadata": {},
     "output_type": "execute_result"
    }
   ],
   "source": [
    "cols_old = ['id', 'Gender', 'Age', 'Driving_License', 'Region_Code',\n",
    "               'Previously_Insured', 'Vehicle_Age', 'Vehicle_Damage', 'Annual_Premium',\n",
    "               'Policy_Sales_Channel', 'Vintage', 'Response']\n",
    "cols_old"
   ]
  },
  {
   "cell_type": "code",
   "execution_count": 6,
   "metadata": {
    "ExecuteTime": {
     "end_time": "2021-02-17T01:42:14.339436Z",
     "start_time": "2021-02-17T01:42:14.281599Z"
    },
    "hidden": true
   },
   "outputs": [],
   "source": [
    "snakecase = lambda x: inflection.underscore( x )\n",
    "\n",
    "cols_new = list( map( snakecase, cols_old ) )\n",
    "\n",
    "df2.columns = cols_new"
   ]
  },
  {
   "cell_type": "markdown",
   "metadata": {
    "heading_collapsed": true
   },
   "source": [
    "## 2.2. Data Dimension"
   ]
  },
  {
   "cell_type": "code",
   "execution_count": 7,
   "metadata": {
    "ExecuteTime": {
     "end_time": "2021-02-17T01:42:14.413370Z",
     "start_time": "2021-02-17T01:42:14.340830Z"
    },
    "hidden": true
   },
   "outputs": [
    {
     "name": "stdout",
     "output_type": "stream",
     "text": [
      "The number of rows is: 381109\n",
      "The number of columns is: 12\n"
     ]
    }
   ],
   "source": [
    "print('The number of rows is: {}'.format( df2.shape[0] ))\n",
    "print('The number of columns is: {}'.format( df2.shape[1] ))"
   ]
  },
  {
   "cell_type": "markdown",
   "metadata": {
    "heading_collapsed": true
   },
   "source": [
    "## 2.3. Data Types"
   ]
  },
  {
   "cell_type": "code",
   "execution_count": 8,
   "metadata": {
    "ExecuteTime": {
     "end_time": "2021-02-17T01:42:14.495825Z",
     "start_time": "2021-02-17T01:42:14.424630Z"
    },
    "hidden": true
   },
   "outputs": [
    {
     "data": {
      "text/plain": [
       "id                        int64\n",
       "gender                   object\n",
       "age                       int64\n",
       "driving_license           int64\n",
       "region_code             float64\n",
       "previously_insured        int64\n",
       "vehicle_age              object\n",
       "vehicle_damage           object\n",
       "annual_premium          float64\n",
       "policy_sales_channel    float64\n",
       "vintage                   int64\n",
       "response                  int64\n",
       "dtype: object"
      ]
     },
     "execution_count": 8,
     "metadata": {},
     "output_type": "execute_result"
    }
   ],
   "source": [
    "df2.dtypes"
   ]
  },
  {
   "cell_type": "markdown",
   "metadata": {
    "heading_collapsed": true
   },
   "source": [
    "## 2.4. Check NA"
   ]
  },
  {
   "cell_type": "code",
   "execution_count": 9,
   "metadata": {
    "ExecuteTime": {
     "end_time": "2021-02-17T01:42:14.638387Z",
     "start_time": "2021-02-17T01:42:14.506077Z"
    },
    "hidden": true
   },
   "outputs": [
    {
     "data": {
      "text/plain": [
       "id                      0\n",
       "gender                  0\n",
       "age                     0\n",
       "driving_license         0\n",
       "region_code             0\n",
       "previously_insured      0\n",
       "vehicle_age             0\n",
       "vehicle_damage          0\n",
       "annual_premium          0\n",
       "policy_sales_channel    0\n",
       "vintage                 0\n",
       "response                0\n",
       "dtype: int64"
      ]
     },
     "execution_count": 9,
     "metadata": {},
     "output_type": "execute_result"
    }
   ],
   "source": [
    "df2.isna().sum()"
   ]
  },
  {
   "cell_type": "markdown",
   "metadata": {
    "ExecuteTime": {
     "end_time": "2021-02-16T00:19:07.298206Z",
     "start_time": "2021-02-16T00:19:07.291018Z"
    },
    "heading_collapsed": true
   },
   "source": [
    "## 2.5. Change Types"
   ]
  },
  {
   "cell_type": "code",
   "execution_count": 10,
   "metadata": {
    "ExecuteTime": {
     "end_time": "2021-02-17T01:42:14.662570Z",
     "start_time": "2021-02-17T01:42:14.641862Z"
    },
    "hidden": true
   },
   "outputs": [],
   "source": [
    "# Check if can convert region_code from float to int\n",
    "aux1 = np.array( df2['region_code'] )\n",
    "aux2 = aux1.astype(int)\n",
    "np.sum( aux1 - aux2 )\n",
    "\n",
    "# Converting region_code from float to int\n",
    "df2['region_code'] = df2['region_code'].astype(int)"
   ]
  },
  {
   "cell_type": "markdown",
   "metadata": {
    "ExecuteTime": {
     "end_time": "2021-02-15T18:17:42.069886Z",
     "start_time": "2021-02-15T18:17:42.061715Z"
    },
    "hidden": true
   },
   "source": [
    "### vehicle_age"
   ]
  },
  {
   "cell_type": "markdown",
   "metadata": {
    "hidden": true
   },
   "source": [
    "vehicle_age is an object, we need to convert it to float. \n",
    "    \n",
    " It's necessary to assume numerical values for the:\n",
    "3 options\n",
    "\n",
    "< 1 Year  -->   0.5,  we assumed the mean value\n",
    "    \n",
    "1-2 Year  -->   1.5,  we assumed the mean value\n",
    "\n",
    "\\> 2 Year  -->   7.5, it's difficult to consider some mean value, so lets consider a number 5 times bigger than the previous\n"
   ]
  },
  {
   "cell_type": "code",
   "execution_count": 11,
   "metadata": {
    "ExecuteTime": {
     "end_time": "2021-02-17T01:42:15.109385Z",
     "start_time": "2021-02-17T01:42:14.665568Z"
    },
    "hidden": true
   },
   "outputs": [],
   "source": [
    "# Changing categories' names of vehicle age\n",
    "df2['vehicle_age'] = df2['vehicle_age'].apply(lambda x: 'new' if x == '< 1 Year' else 'almost_new' if x =='1-2 Year' else 'old')\n",
    "\n",
    "# Convert annual_premium from float to int\n",
    "df2['annual_premium'] = df2['annual_premium'].astype(int)\n",
    "\n",
    "# Convert policy_sales_channel from float to int\n",
    "df2['policy_sales_channel'] = df2['policy_sales_channel'].astype(int)\n",
    "\n",
    "# Convert vehicle_damage from object to int\n",
    "df2['vehicle_damage'] = df2['vehicle_damage'].apply(lambda x: 0 if x=='No' else 1)"
   ]
  },
  {
   "cell_type": "code",
   "execution_count": 12,
   "metadata": {
    "ExecuteTime": {
     "end_time": "2021-02-17T01:42:15.120558Z",
     "start_time": "2021-02-17T01:42:15.112526Z"
    },
    "hidden": true
   },
   "outputs": [
    {
     "data": {
      "text/plain": [
       "id                       int64\n",
       "gender                  object\n",
       "age                      int64\n",
       "driving_license          int64\n",
       "region_code              int64\n",
       "previously_insured       int64\n",
       "vehicle_age             object\n",
       "vehicle_damage           int64\n",
       "annual_premium           int64\n",
       "policy_sales_channel     int64\n",
       "vintage                  int64\n",
       "response                 int64\n",
       "dtype: object"
      ]
     },
     "execution_count": 12,
     "metadata": {},
     "output_type": "execute_result"
    }
   ],
   "source": [
    "df2.dtypes"
   ]
  },
  {
   "cell_type": "markdown",
   "metadata": {
    "heading_collapsed": true
   },
   "source": [
    "## 2.6. Split data between Categorical and Numerical data"
   ]
  },
  {
   "cell_type": "code",
   "execution_count": 13,
   "metadata": {
    "ExecuteTime": {
     "end_time": "2021-02-17T01:42:15.292500Z",
     "start_time": "2021-02-17T01:42:15.123123Z"
    },
    "hidden": true
   },
   "outputs": [
    {
     "data": {
      "text/html": [
       "<div>\n",
       "<style scoped>\n",
       "    .dataframe tbody tr th:only-of-type {\n",
       "        vertical-align: middle;\n",
       "    }\n",
       "\n",
       "    .dataframe tbody tr th {\n",
       "        vertical-align: top;\n",
       "    }\n",
       "\n",
       "    .dataframe thead th {\n",
       "        text-align: right;\n",
       "    }\n",
       "</style>\n",
       "<table border=\"1\" class=\"dataframe\">\n",
       "  <thead>\n",
       "    <tr style=\"text-align: right;\">\n",
       "      <th></th>\n",
       "      <th>id</th>\n",
       "      <th>gender</th>\n",
       "      <th>age</th>\n",
       "      <th>driving_license</th>\n",
       "      <th>region_code</th>\n",
       "      <th>previously_insured</th>\n",
       "      <th>vehicle_age</th>\n",
       "      <th>vehicle_damage</th>\n",
       "      <th>annual_premium</th>\n",
       "      <th>policy_sales_channel</th>\n",
       "      <th>vintage</th>\n",
       "      <th>response</th>\n",
       "    </tr>\n",
       "  </thead>\n",
       "  <tbody>\n",
       "    <tr>\n",
       "      <th>53166</th>\n",
       "      <td>53167</td>\n",
       "      <td>Female</td>\n",
       "      <td>23</td>\n",
       "      <td>1</td>\n",
       "      <td>21</td>\n",
       "      <td>0</td>\n",
       "      <td>new</td>\n",
       "      <td>1</td>\n",
       "      <td>2630</td>\n",
       "      <td>160</td>\n",
       "      <td>92</td>\n",
       "      <td>0</td>\n",
       "    </tr>\n",
       "  </tbody>\n",
       "</table>\n",
       "</div>"
      ],
      "text/plain": [
       "          id  gender  age  driving_license  region_code  previously_insured  \\\n",
       "53166  53167  Female   23                1           21                   0   \n",
       "\n",
       "      vehicle_age  vehicle_damage  annual_premium  policy_sales_channel  \\\n",
       "53166         new               1            2630                   160   \n",
       "\n",
       "       vintage  response  \n",
       "53166       92         0  "
      ]
     },
     "execution_count": 13,
     "metadata": {},
     "output_type": "execute_result"
    }
   ],
   "source": [
    "df2.sample()"
   ]
  },
  {
   "cell_type": "code",
   "execution_count": 14,
   "metadata": {
    "ExecuteTime": {
     "end_time": "2021-02-17T01:42:17.381101Z",
     "start_time": "2021-02-17T01:42:15.294492Z"
    },
    "hidden": true
   },
   "outputs": [],
   "source": [
    "num_data = df2[['age', 'annual_premium', 'vintage']]\n",
    "cat_data = df2[['gender', 'vehicle_age' ,'driving_license', 'region_code', 'previously_insured', 'vehicle_damage', 'policy_sales_channel']]"
   ]
  },
  {
   "cell_type": "markdown",
   "metadata": {},
   "source": [
    "## 2.7. Descriptive Statistics"
   ]
  },
  {
   "cell_type": "markdown",
   "metadata": {
    "ExecuteTime": {
     "end_time": "2021-02-15T22:02:44.424918Z",
     "start_time": "2021-02-15T22:02:44.413947Z"
    }
   },
   "source": [
    "### Relevant metrics"
   ]
  },
  {
   "cell_type": "code",
   "execution_count": 15,
   "metadata": {
    "ExecuteTime": {
     "end_time": "2021-02-17T01:42:18.752554Z",
     "start_time": "2021-02-17T01:42:17.385328Z"
    }
   },
   "outputs": [],
   "source": [
    "num_mean = pd.DataFrame( num_data.apply( np.mean ) ).T\n",
    "num_std = pd.DataFrame( num_data.apply( np.std ) ).T\n",
    "num_median = pd.DataFrame( num_data.apply( np.median ) ).T\n",
    "num_min = pd.DataFrame( num_data.apply( min ) ).T\n",
    "num_max = pd.DataFrame( num_data.apply( max ) ).T\n",
    "num_range = pd.DataFrame( num_data.apply( lambda x: x.max() - x.min() ) ).T\n",
    "num_skew = pd.DataFrame( num_data.apply( lambda x: x.skew() ) ).T\n",
    "num_kurtosis = pd.DataFrame( num_data.apply( lambda x: x.kurtosis() ) ).T\n",
    "\n",
    "analysis_table = pd.concat( [num_mean, num_std, num_median, num_min, num_max, num_range, num_skew, num_kurtosis] ).T\n",
    "analysis_table.columns = ['mean', 'std', 'median', 'min', 'max', 'range', 'skew', 'kurtosis']"
   ]
  },
  {
   "cell_type": "code",
   "execution_count": 16,
   "metadata": {
    "ExecuteTime": {
     "end_time": "2021-02-17T01:42:19.501254Z",
     "start_time": "2021-02-17T01:42:18.754141Z"
    }
   },
   "outputs": [
    {
     "data": {
      "text/html": [
       "<div>\n",
       "<style scoped>\n",
       "    .dataframe tbody tr th:only-of-type {\n",
       "        vertical-align: middle;\n",
       "    }\n",
       "\n",
       "    .dataframe tbody tr th {\n",
       "        vertical-align: top;\n",
       "    }\n",
       "\n",
       "    .dataframe thead th {\n",
       "        text-align: right;\n",
       "    }\n",
       "</style>\n",
       "<table border=\"1\" class=\"dataframe\">\n",
       "  <thead>\n",
       "    <tr style=\"text-align: right;\">\n",
       "      <th></th>\n",
       "      <th>mean</th>\n",
       "      <th>std</th>\n",
       "      <th>median</th>\n",
       "      <th>min</th>\n",
       "      <th>max</th>\n",
       "      <th>range</th>\n",
       "      <th>skew</th>\n",
       "      <th>kurtosis</th>\n",
       "    </tr>\n",
       "  </thead>\n",
       "  <tbody>\n",
       "    <tr>\n",
       "      <th>age</th>\n",
       "      <td>38.822584</td>\n",
       "      <td>15.511591</td>\n",
       "      <td>36.0</td>\n",
       "      <td>20.0</td>\n",
       "      <td>85.0</td>\n",
       "      <td>65.0</td>\n",
       "      <td>0.672539</td>\n",
       "      <td>-0.565655</td>\n",
       "    </tr>\n",
       "    <tr>\n",
       "      <th>annual_premium</th>\n",
       "      <td>30564.389581</td>\n",
       "      <td>17213.132474</td>\n",
       "      <td>31669.0</td>\n",
       "      <td>2630.0</td>\n",
       "      <td>540165.0</td>\n",
       "      <td>537535.0</td>\n",
       "      <td>1.766087</td>\n",
       "      <td>34.004569</td>\n",
       "    </tr>\n",
       "    <tr>\n",
       "      <th>vintage</th>\n",
       "      <td>154.347397</td>\n",
       "      <td>83.671194</td>\n",
       "      <td>154.0</td>\n",
       "      <td>10.0</td>\n",
       "      <td>299.0</td>\n",
       "      <td>289.0</td>\n",
       "      <td>0.003030</td>\n",
       "      <td>-1.200688</td>\n",
       "    </tr>\n",
       "  </tbody>\n",
       "</table>\n",
       "</div>"
      ],
      "text/plain": [
       "                        mean           std   median     min       max  \\\n",
       "age                38.822584     15.511591     36.0    20.0      85.0   \n",
       "annual_premium  30564.389581  17213.132474  31669.0  2630.0  540165.0   \n",
       "vintage           154.347397     83.671194    154.0    10.0     299.0   \n",
       "\n",
       "                   range      skew   kurtosis  \n",
       "age                 65.0  0.672539  -0.565655  \n",
       "annual_premium  537535.0  1.766087  34.004569  \n",
       "vintage            289.0  0.003030  -1.200688  "
      ]
     },
     "execution_count": 16,
     "metadata": {},
     "output_type": "execute_result"
    }
   ],
   "source": [
    "analysis_table"
   ]
  },
  {
   "cell_type": "code",
   "execution_count": 17,
   "metadata": {
    "ExecuteTime": {
     "end_time": "2021-02-17T01:42:21.763974Z",
     "start_time": "2021-02-17T01:42:19.507012Z"
    }
   },
   "outputs": [
    {
     "data": {
      "text/plain": [
       "(1.0, 100000.0)"
      ]
     },
     "execution_count": 17,
     "metadata": {},
     "output_type": "execute_result"
    },
    {
     "data": {
      "image/png": "[encoded data removed]",
      "text/plain": [
       "<Figure size 576x576 with 1 Axes>"
      ]
     },
     "metadata": {
      "needs_background": "light"
     },
     "output_type": "display_data"
    }
   ],
   "source": [
    "plt.figure(figsize=(8,8))\n",
    "plt.xticks( np.arange(0, 100000, 5000), rotation=-30 )\n",
    "plt.axvline(x=num_mean['annual_premium'][0], ymin=0, ymax=1, label='mean', color='r')\n",
    "plt.axvline(x=num_median['annual_premium'][0], ymin=0, ymax=1, label='median', color='g')\n",
    "plt.legend()\n",
    "sns.distplot( df2['annual_premium'] ).set_xlim(1,100000)"
   ]
  },
  {
   "cell_type": "code",
   "execution_count": 18,
   "metadata": {
    "ExecuteTime": {
     "end_time": "2021-02-17T01:42:21.810176Z",
     "start_time": "2021-02-17T01:42:21.766411Z"
    }
   },
   "outputs": [
    {
     "data": {
      "text/plain": [
       "gender                    2\n",
       "vehicle_age               3\n",
       "driving_license           2\n",
       "region_code              53\n",
       "previously_insured        2\n",
       "vehicle_damage            2\n",
       "policy_sales_channel    155\n",
       "dtype: int64"
      ]
     },
     "execution_count": 18,
     "metadata": {},
     "output_type": "execute_result"
    }
   ],
   "source": [
    "# Amount of categories in each categorical variable\n",
    "cat_data.apply( lambda x: x.unique().shape[0] )"
   ]
  },
  {
   "cell_type": "markdown",
   "metadata": {},
   "source": [
    "#### Boxplots"
   ]
  },
  {
   "cell_type": "code",
   "execution_count": 19,
   "metadata": {
    "ExecuteTime": {
     "end_time": "2021-02-17T01:42:24.012135Z",
     "start_time": "2021-02-17T01:42:21.812435Z"
    }
   },
   "outputs": [
    {
     "data": {
      "text/plain": [
       "Text(0.5, 1.0, 'Insurance acceptance of people who have never had a vehicle damage')"
      ]
     },
     "execution_count": 19,
     "metadata": {},
     "output_type": "execute_result"
    },
    {
     "data": {
      "image/png": "[encoded data removed]",
      "text/plain": [
       "<Figure size 864x1440 with 4 Axes>"
      ]
     },
     "metadata": {
      "needs_background": "light"
     },
     "output_type": "display_data"
    }
   ],
   "source": [
    "plt.figure(figsize=(12,20))\n",
    "plt.subplots_adjust(left=None, bottom=None, right=2, top=None, wspace=None, hspace=None)\n",
    "\n",
    "plt.subplot(2,2,1)\n",
    "aux = df2[ df2['gender'] == 'Male' ]\n",
    "sns.countplot( aux['response'] ).set_title('Men\\'s insurance acceptance')\n",
    "\n",
    "plt.subplot(2,2,2)\n",
    "aux2 = df2[ df2['gender'] == 'Female' ]\n",
    "sns.countplot( aux2['response'] ).set_title('Women\\'s insurance acceptance')\n",
    "\n",
    "plt.subplot(2,2,3)\n",
    "aux3 = df2[ df2['vehicle_damage'] == 1 ]\n",
    "sns.countplot( aux3['response'] ).set_title('Insurance acceptance of people who already had a vehicle damage')\n",
    "\n",
    "plt.subplot(2,2,4)\n",
    "aux4 = df2[ df2['vehicle_damage'] == 0 ]\n",
    "sns.countplot( aux4['response'] ).set_title('Insurance acceptance of people who have never had a vehicle damage')\n"
   ]
  },
  {
   "cell_type": "code",
   "execution_count": 20,
   "metadata": {
    "ExecuteTime": {
     "end_time": "2021-02-17T01:42:24.044452Z",
     "start_time": "2021-02-17T01:42:24.014350Z"
    }
   },
   "outputs": [
    {
     "data": {
      "text/html": [
       "<div>\n",
       "<style scoped>\n",
       "    .dataframe tbody tr th:only-of-type {\n",
       "        vertical-align: middle;\n",
       "    }\n",
       "\n",
       "    .dataframe tbody tr th {\n",
       "        vertical-align: top;\n",
       "    }\n",
       "\n",
       "    .dataframe thead th {\n",
       "        text-align: right;\n",
       "    }\n",
       "</style>\n",
       "<table border=\"1\" class=\"dataframe\">\n",
       "  <thead>\n",
       "    <tr style=\"text-align: right;\">\n",
       "      <th></th>\n",
       "      <th>gender</th>\n",
       "      <th>vehicle_age</th>\n",
       "      <th>driving_license</th>\n",
       "      <th>region_code</th>\n",
       "      <th>previously_insured</th>\n",
       "      <th>vehicle_damage</th>\n",
       "      <th>policy_sales_channel</th>\n",
       "    </tr>\n",
       "  </thead>\n",
       "  <tbody>\n",
       "    <tr>\n",
       "      <th>0</th>\n",
       "      <td>Male</td>\n",
       "      <td>old</td>\n",
       "      <td>1</td>\n",
       "      <td>28</td>\n",
       "      <td>0</td>\n",
       "      <td>1</td>\n",
       "      <td>26</td>\n",
       "    </tr>\n",
       "    <tr>\n",
       "      <th>1</th>\n",
       "      <td>Male</td>\n",
       "      <td>almost_new</td>\n",
       "      <td>1</td>\n",
       "      <td>3</td>\n",
       "      <td>0</td>\n",
       "      <td>0</td>\n",
       "      <td>26</td>\n",
       "    </tr>\n",
       "    <tr>\n",
       "      <th>2</th>\n",
       "      <td>Male</td>\n",
       "      <td>old</td>\n",
       "      <td>1</td>\n",
       "      <td>28</td>\n",
       "      <td>0</td>\n",
       "      <td>1</td>\n",
       "      <td>26</td>\n",
       "    </tr>\n",
       "    <tr>\n",
       "      <th>3</th>\n",
       "      <td>Male</td>\n",
       "      <td>new</td>\n",
       "      <td>1</td>\n",
       "      <td>11</td>\n",
       "      <td>1</td>\n",
       "      <td>0</td>\n",
       "      <td>152</td>\n",
       "    </tr>\n",
       "    <tr>\n",
       "      <th>4</th>\n",
       "      <td>Female</td>\n",
       "      <td>new</td>\n",
       "      <td>1</td>\n",
       "      <td>41</td>\n",
       "      <td>1</td>\n",
       "      <td>0</td>\n",
       "      <td>152</td>\n",
       "    </tr>\n",
       "    <tr>\n",
       "      <th>...</th>\n",
       "      <td>...</td>\n",
       "      <td>...</td>\n",
       "      <td>...</td>\n",
       "      <td>...</td>\n",
       "      <td>...</td>\n",
       "      <td>...</td>\n",
       "      <td>...</td>\n",
       "    </tr>\n",
       "    <tr>\n",
       "      <th>381104</th>\n",
       "      <td>Male</td>\n",
       "      <td>almost_new</td>\n",
       "      <td>1</td>\n",
       "      <td>26</td>\n",
       "      <td>1</td>\n",
       "      <td>0</td>\n",
       "      <td>26</td>\n",
       "    </tr>\n",
       "    <tr>\n",
       "      <th>381105</th>\n",
       "      <td>Male</td>\n",
       "      <td>new</td>\n",
       "      <td>1</td>\n",
       "      <td>37</td>\n",
       "      <td>1</td>\n",
       "      <td>0</td>\n",
       "      <td>152</td>\n",
       "    </tr>\n",
       "    <tr>\n",
       "      <th>381106</th>\n",
       "      <td>Male</td>\n",
       "      <td>new</td>\n",
       "      <td>1</td>\n",
       "      <td>30</td>\n",
       "      <td>1</td>\n",
       "      <td>0</td>\n",
       "      <td>160</td>\n",
       "    </tr>\n",
       "    <tr>\n",
       "      <th>381107</th>\n",
       "      <td>Female</td>\n",
       "      <td>old</td>\n",
       "      <td>1</td>\n",
       "      <td>14</td>\n",
       "      <td>0</td>\n",
       "      <td>1</td>\n",
       "      <td>124</td>\n",
       "    </tr>\n",
       "    <tr>\n",
       "      <th>381108</th>\n",
       "      <td>Male</td>\n",
       "      <td>almost_new</td>\n",
       "      <td>1</td>\n",
       "      <td>29</td>\n",
       "      <td>0</td>\n",
       "      <td>0</td>\n",
       "      <td>26</td>\n",
       "    </tr>\n",
       "  </tbody>\n",
       "</table>\n",
       "<p>381109 rows × 7 columns</p>\n",
       "</div>"
      ],
      "text/plain": [
       "        gender vehicle_age  driving_license  region_code  previously_insured  \\\n",
       "0         Male         old                1           28                   0   \n",
       "1         Male  almost_new                1            3                   0   \n",
       "2         Male         old                1           28                   0   \n",
       "3         Male         new                1           11                   1   \n",
       "4       Female         new                1           41                   1   \n",
       "...        ...         ...              ...          ...                 ...   \n",
       "381104    Male  almost_new                1           26                   1   \n",
       "381105    Male         new                1           37                   1   \n",
       "381106    Male         new                1           30                   1   \n",
       "381107  Female         old                1           14                   0   \n",
       "381108    Male  almost_new                1           29                   0   \n",
       "\n",
       "        vehicle_damage  policy_sales_channel  \n",
       "0                    1                    26  \n",
       "1                    0                    26  \n",
       "2                    1                    26  \n",
       "3                    0                   152  \n",
       "4                    0                   152  \n",
       "...                ...                   ...  \n",
       "381104               0                    26  \n",
       "381105               0                   152  \n",
       "381106               0                   160  \n",
       "381107               1                   124  \n",
       "381108               0                    26  \n",
       "\n",
       "[381109 rows x 7 columns]"
      ]
     },
     "execution_count": 20,
     "metadata": {},
     "output_type": "execute_result"
    }
   ],
   "source": [
    "cat_data"
   ]
  },
  {
   "cell_type": "markdown",
   "metadata": {
    "heading_collapsed": true
   },
   "source": [
    "# 3.0. Feature Engineering"
   ]
  },
  {
   "cell_type": "code",
   "execution_count": 21,
   "metadata": {
    "ExecuteTime": {
     "end_time": "2021-02-17T01:42:24.747237Z",
     "start_time": "2021-02-17T01:42:24.046423Z"
    },
    "hidden": true
   },
   "outputs": [],
   "source": [
    "df3 = df2.copy()"
   ]
  },
  {
   "cell_type": "code",
   "execution_count": 22,
   "metadata": {
    "ExecuteTime": {
     "end_time": "2021-02-17T01:42:25.777979Z",
     "start_time": "2021-02-17T01:42:24.751425Z"
    },
    "hidden": true
   },
   "outputs": [
    {
     "data": {
      "image/png": "[encoded data removed]",
      "text/plain": [
       "<IPython.core.display.Image object>"
      ]
     },
     "execution_count": 22,
     "metadata": {},
     "output_type": "execute_result"
    }
   ],
   "source": [
    "Image('img/CAR_INSURANCE_MIND_MAP.png')"
   ]
  },
  {
   "cell_type": "markdown",
   "metadata": {
    "heading_collapsed": true,
    "hidden": true
   },
   "source": [
    "## 3.1. Hypothesis creation"
   ]
  },
  {
   "cell_type": "markdown",
   "metadata": {
    "heading_collapsed": true,
    "hidden": true
   },
   "source": [
    "### 3.1.1. Hypothesis about the client"
   ]
  },
  {
   "cell_type": "markdown",
   "metadata": {
    "hidden": true
   },
   "source": [
    "**1.** Clients with higher VINTAGE, have higher chances of accepting a new service from the company.\n",
    "\n",
    "**2.** Clients that already have a car's insurance have lower chances of accepting another car's insurance.\n",
    "\n",
    "**3.** Clients that have a driving license are more proned to accept a car's insurance, than those that dont have one.\n",
    "\n",
    "**4.** Clients that are young have higher chances of purchasing a car's insurance.\n",
    "\n",
    "**5.** Clients who live in dangerous areas are more proned to purchase a car's insurance.\n",
    "\n",
    "**6.** Clients whose annual premium is expensive, tends to not purchase a car's insurance."
   ]
  },
  {
   "cell_type": "markdown",
   "metadata": {
    "heading_collapsed": true,
    "hidden": true
   },
   "source": [
    "### 3.1.2. Hypothesis about the vehicle"
   ]
  },
  {
   "cell_type": "markdown",
   "metadata": {
    "hidden": true
   },
   "source": [
    "**1.** Clients whose vehicle is new are more proned to purchase a car's insurance.\n",
    "\n",
    "**2.** Clients whose vehicle has been already damaged, tends to purchase a car's insurance."
   ]
  },
  {
   "cell_type": "markdown",
   "metadata": {
    "ExecuteTime": {
     "end_time": "2021-02-16T00:02:41.941373Z",
     "start_time": "2021-02-16T00:02:41.937677Z"
    },
    "heading_collapsed": true,
    "hidden": true
   },
   "source": [
    "## 3.2. Final hypothesis list"
   ]
  },
  {
   "cell_type": "markdown",
   "metadata": {
    "hidden": true
   },
   "source": [
    "Choose the hypothesis that the needed data are available for prediction."
   ]
  },
  {
   "cell_type": "markdown",
   "metadata": {
    "ExecuteTime": {
     "end_time": "2021-02-16T00:04:49.315035Z",
     "start_time": "2021-02-16T00:04:49.293443Z"
    },
    "hidden": true
   },
   "source": [
    "**1.** Clients with higher VINTAGE, have higher chances of accepting a new service from the company.\n",
    "\n",
    "**2.** Clients that already have a car's insurance have lower chances of accepting another car's insurance.\n",
    "\n",
    "**3.** Clients that have a driving license are more proned to accept a car's insurance, than those that dont have one.\n",
    "\n",
    "**4.** Clients that are young have higher chances of purchasing a car's insurance.\n",
    "\n",
    "**5.** Clients who live in dangerous areas are more proned to purchase a car's insurance.\n",
    "\n",
    "**6.** Clients whose annual premium is expensive, tends to not purchase a car's insurance.\n",
    "\n",
    "**7.** Clients whose vehicle is new are more proned to purchase a car's insurance.\n",
    "\n",
    "**8.** Clients whose vehicle has been already damaged, tends to purchase a car's insurance."
   ]
  },
  {
   "cell_type": "code",
   "execution_count": 23,
   "metadata": {
    "ExecuteTime": {
     "end_time": "2021-02-17T01:42:27.323703Z",
     "start_time": "2021-02-17T01:42:25.785759Z"
    },
    "hidden": true
   },
   "outputs": [
    {
     "data": {
      "text/html": [
       "<div>\n",
       "<style scoped>\n",
       "    .dataframe tbody tr th:only-of-type {\n",
       "        vertical-align: middle;\n",
       "    }\n",
       "\n",
       "    .dataframe tbody tr th {\n",
       "        vertical-align: top;\n",
       "    }\n",
       "\n",
       "    .dataframe thead th {\n",
       "        text-align: right;\n",
       "    }\n",
       "</style>\n",
       "<table border=\"1\" class=\"dataframe\">\n",
       "  <thead>\n",
       "    <tr style=\"text-align: right;\">\n",
       "      <th></th>\n",
       "      <th>id</th>\n",
       "      <th>gender</th>\n",
       "      <th>age</th>\n",
       "      <th>driving_license</th>\n",
       "      <th>region_code</th>\n",
       "      <th>previously_insured</th>\n",
       "      <th>vehicle_age</th>\n",
       "      <th>vehicle_damage</th>\n",
       "      <th>annual_premium</th>\n",
       "      <th>policy_sales_channel</th>\n",
       "      <th>vintage</th>\n",
       "      <th>response</th>\n",
       "    </tr>\n",
       "  </thead>\n",
       "  <tbody>\n",
       "    <tr>\n",
       "      <th>353214</th>\n",
       "      <td>353215</td>\n",
       "      <td>Female</td>\n",
       "      <td>21</td>\n",
       "      <td>1</td>\n",
       "      <td>13</td>\n",
       "      <td>0</td>\n",
       "      <td>almost_new</td>\n",
       "      <td>1</td>\n",
       "      <td>33799</td>\n",
       "      <td>157</td>\n",
       "      <td>58</td>\n",
       "      <td>0</td>\n",
       "    </tr>\n",
       "  </tbody>\n",
       "</table>\n",
       "</div>"
      ],
      "text/plain": [
       "            id  gender  age  driving_license  region_code  previously_insured  \\\n",
       "353214  353215  Female   21                1           13                   0   \n",
       "\n",
       "       vehicle_age  vehicle_damage  annual_premium  policy_sales_channel  \\\n",
       "353214  almost_new               1           33799                   157   \n",
       "\n",
       "        vintage  response  \n",
       "353214       58         0  "
      ]
     },
     "execution_count": 23,
     "metadata": {},
     "output_type": "execute_result"
    }
   ],
   "source": [
    "df3.sample()"
   ]
  },
  {
   "cell_type": "markdown",
   "metadata": {
    "ExecuteTime": {
     "end_time": "2021-02-16T00:23:29.542920Z",
     "start_time": "2021-02-16T00:23:29.531528Z"
    },
    "hidden": true
   },
   "source": [
    "## 3.3. Deriving New Variables"
   ]
  },
  {
   "cell_type": "markdown",
   "metadata": {},
   "source": [
    "# 4.0. Exploratory Data Analysis"
   ]
  },
  {
   "cell_type": "code",
   "execution_count": 24,
   "metadata": {
    "ExecuteTime": {
     "end_time": "2021-02-17T01:42:27.970005Z",
     "start_time": "2021-02-17T01:42:27.327419Z"
    }
   },
   "outputs": [],
   "source": [
    "df4 = df3.copy()"
   ]
  },
  {
   "cell_type": "markdown",
   "metadata": {},
   "source": [
    "## 4.1. Univariate Analysis"
   ]
  },
  {
   "cell_type": "markdown",
   "metadata": {},
   "source": [
    "### 4.1.1. Response Variable"
   ]
  },
  {
   "cell_type": "code",
   "execution_count": 25,
   "metadata": {
    "ExecuteTime": {
     "end_time": "2021-02-17T01:42:28.339617Z",
     "start_time": "2021-02-17T01:42:27.973589Z"
    }
   },
   "outputs": [
    {
     "data": {
      "text/plain": [
       "<AxesSubplot:xlabel='response', ylabel='count'>"
      ]
     },
     "execution_count": 25,
     "metadata": {},
     "output_type": "execute_result"
    },
    {
     "data": {
      "image/png": "[encoded data removed]",
      "text/plain": [
       "<Figure size 432x288 with 1 Axes>"
      ]
     },
     "metadata": {
      "needs_background": "light"
     },
     "output_type": "display_data"
    }
   ],
   "source": [
    "sns.countplot( df4['response'] )"
   ]
  },
  {
   "cell_type": "markdown",
   "metadata": {},
   "source": [
    "### 4.1.2. Numerical Variables"
   ]
  },
  {
   "cell_type": "code",
   "execution_count": 26,
   "metadata": {
    "ExecuteTime": {
     "end_time": "2021-02-17T01:42:32.541779Z",
     "start_time": "2021-02-17T01:42:28.341585Z"
    }
   },
   "outputs": [
    {
     "data": {
      "text/plain": [
       "<AxesSubplot:title={'center':'Distribution of vintage'}, xlabel='vintage', ylabel='Count'>"
      ]
     },
     "execution_count": 26,
     "metadata": {},
     "output_type": "execute_result"
    },
    {
     "data": {
      "image/png": "[encoded data removed]",
      "text/plain": [
       "<Figure size 1224x792 with 3 Axes>"
      ]
     },
     "metadata": {
      "needs_background": "light"
     },
     "output_type": "display_data"
    }
   ],
   "source": [
    "plt.figure(figsize=(17,11))\n",
    "plt.subplot(2,2,1)\n",
    "plt.title('Distribution of ages')\n",
    "plt.xticks( np.arange(0, 100, 5), rotation=0 )\n",
    "sns.histplot(df4['age'])\n",
    "\n",
    "plt.subplot(2,2,2)\n",
    "plt.title('Distribution of annual premium')\n",
    "plt.xticks( np.arange(0, 70000, 5000), rotation=-30 )\n",
    "plt.xlim(0,70000)  \n",
    "sns.histplot(df4['annual_premium'])\n",
    "\n",
    "plt.subplot(2,2,3)\n",
    "plt.title('Distribution of vintage')\n",
    "plt.xticks( np.arange(0, 320, 20), rotation=-20 )\n",
    "sns.histplot(df4['vintage'])"
   ]
  },
  {
   "cell_type": "markdown",
   "metadata": {},
   "source": [
    "### 4.1.3. Categorical Variables"
   ]
  },
  {
   "cell_type": "code",
   "execution_count": 27,
   "metadata": {
    "ExecuteTime": {
     "end_time": "2021-02-17T01:42:32.548910Z",
     "start_time": "2021-02-17T01:42:32.544240Z"
    }
   },
   "outputs": [
    {
     "data": {
      "text/plain": [
       "Index(['gender', 'vehicle_age', 'driving_license', 'region_code',\n",
       "       'previously_insured', 'vehicle_damage', 'policy_sales_channel'],\n",
       "      dtype='object')"
      ]
     },
     "execution_count": 27,
     "metadata": {},
     "output_type": "execute_result"
    }
   ],
   "source": [
    "cat_data.columns"
   ]
  },
  {
   "cell_type": "code",
   "execution_count": 75,
   "metadata": {
    "ExecuteTime": {
     "end_time": "2021-02-17T02:12:49.826753Z",
     "start_time": "2021-02-17T02:12:49.189945Z"
    }
   },
   "outputs": [
    {
     "data": {
      "text/plain": [
       "<AxesSubplot:title={'center':'Percentage of purchases intention in FEMALE GENDER'}>"
      ]
     },
     "execution_count": 75,
     "metadata": {},
     "output_type": "execute_result"
    },
    {
     "data": {
      "image/png": "[encoded data removed]",
      "text/plain": [
       "<Figure size 1080x864 with 3 Axes>"
      ]
     },
     "metadata": {
      "needs_background": "light"
     },
     "output_type": "display_data"
    }
   ],
   "source": [
    "plt.figure(figsize=(15,12))\n",
    "plt.subplots_adjust(left=None, bottom=None, right=None, top=None, wspace=0.3, hspace=0.3)\n",
    "\n",
    "# Amount of data collected from each gender\n",
    "plt.subplot(2,2,1)\n",
    "plt.title('Amount of data collected from each gender')\n",
    "sns.countplot(df4['gender'])\n",
    "\n",
    "\n",
    "# Percentages of purchases intention in male gender\n",
    "plt.subplot(2,2,3)\n",
    "# Selecting just the gender male\n",
    "df_male = df4[ df4['gender'] == 'Male' ]\n",
    "male_num_accept = df_male[ df_male['response'] == 1 ].count()[0]\n",
    "male_num_reject = df_male[ df_male['response'] == 0 ].count()[0]\n",
    "male_accept_perc = (male_num_accept) / (male_num_accept + male_num_reject)\n",
    "\n",
    "plt.title('Percentage of purchases intention in MALE GENDER')\n",
    "plt.yticks( np.arange(0,1,0.1), rotation=0 )\n",
    "sns.barplot( x=['\\nACCEPTANCE ({} %)'.format( np.round ( 100 * male_accept_perc, 3 ) ),\n",
    "                '\\nREJECTION ({} %)'.format( np.round (100 * (1-male_accep_perc), 3 ) )],\n",
    "             y=[male_accept_perc, (1-male_accept_perc)] )\n",
    "\n",
    "\n",
    "# Percentage of purchases intention in female gender\n",
    "plt.subplot(2,2,4)\n",
    "# Selecting just the gender female\n",
    "df_female = df4[ df4['gender'] == 'Female' ]\n",
    "female_num_accept = df_female[ df_female['response'] == 1 ].count()[0]\n",
    "female_num_reject = df_female[ df_female['response'] == 0 ].count()[0]\n",
    "female_accept_perc = (female_num_accept) / (female_num_accept + female_num_reject)\n",
    "\n",
    "plt.title('Percentage of purchases intention in FEMALE GENDER')\n",
    "plt.yticks( np.arange(0,1,0.1), rotation=0 )\n",
    "sns.barplot( x=['\\nACCEPTANCE ({} %)'.format( np.round ( 100 * female_accept_perc, 3 ) ),\n",
    "                '\\nREJECTION ({} %)'.format( np.round (100 * (1-female_accept_perc), 3 ) )],\n",
    "             y=[female_accept_perc, (1-female_accept_perc)] )\n"
   ]
  },
  {
   "cell_type": "code",
   "execution_count": 76,
   "metadata": {
    "ExecuteTime": {
     "end_time": "2021-02-17T02:13:38.136351Z",
     "start_time": "2021-02-17T02:13:37.534494Z"
    }
   },
   "outputs": [
    {
     "data": {
      "text/plain": [
       "<AxesSubplot:>"
      ]
     },
     "execution_count": 76,
     "metadata": {},
     "output_type": "execute_result"
    },
    {
     "data": {
      "image/png": "[encoded data removed]",
      "text/plain": [
       "<Figure size 1080x936 with 2 Axes>"
      ]
     },
     "metadata": {
      "needs_background": "light"
     },
     "output_type": "display_data"
    }
   ],
   "source": [
    "plt.figure(figsize=(15,13))\n",
    "plt.subplots_adjust(left=None, bottom=None, right=None, top=None, wspace=0.3, hspace=0.3)\n",
    "\n",
    "# Amount of data collected from each vehicle age\n",
    "plt.subplot(2,3,1)\n",
    "# vehicle_age\n",
    "sns.countplot( df4['vehicle_age'] )\n",
    "\n",
    "# old cars\n",
    "old_num_accept = df4[ (df4['vehicle_age'] == 'old') & (df4['response'] == 1) ].count()[0]\n",
    "old_num_reject = df4[ (df4['vehicle_age'] == 'old') & (df4['response'] == 0) ].count()[0]\n",
    "old_accept_perc = (old_num_accept) / (old_num_accept + old_num_reject)\n",
    "\n",
    "plt.subplot(2,3,2)\n",
    "sns.barplot( x=['\\nACCEPTANCE ({} %)'.format( np.round ( 100 * old_accept_perc, 3 ) ),\n",
    "                '\\nREJECTION ({} %)'.format( np.round (100 * (1-old_accept_perc), 3 ) )],\n",
    "             y=[old_accept_perc, (1-old_accept_perc)] )\n",
    "\n",
    "# almost_new carsf\n",
    "almost_new_num_accept = df4[ (df4['vehicle_age'] == 'almost_new') & (df4['response'] == 1) ].count()[0]\n",
    "almost_new_reject = df4[ (df4['vehicle_age'] == 'almost_new') & (df4['response'] == 0) ].count()[0]\n",
    "old_accept_perc = (old_num_accept) / (old_num_accept + old_num_reject)\n",
    "\n",
    "plt.subplot(2,3,2)\n",
    "sns.barplot( x=['\\nACCEPTANCE ({} %)'.format( np.round ( 100 * old_accept_perc, 3 ) ),\n",
    "                '\\nREJECTION ({} %)'.format( np.round (100 * (1-old_accept_perc), 3 ) )],\n",
    "             y=[old_accept_perc, (1-old_accept_perc)] )\n",
    "\n",
    "# new cars\n",
    "new_num_accept = df4[ (df4['vehicle_age'] == 'new') & (df4['response'] == 1) ].count()[0]\n",
    "new_num_reject = df4[ (df4['vehicle_age'] == 'new') & (df4['response'] == 0) ].count()[0]\n",
    "\n"
   ]
  },
  {
   "cell_type": "code",
   "execution_count": 54,
   "metadata": {
    "ExecuteTime": {
     "end_time": "2021-02-17T02:01:20.640229Z",
     "start_time": "2021-02-17T02:01:20.612743Z"
    }
   },
   "outputs": [
    {
     "data": {
      "text/html": [
       "<div>\n",
       "<style scoped>\n",
       "    .dataframe tbody tr th:only-of-type {\n",
       "        vertical-align: middle;\n",
       "    }\n",
       "\n",
       "    .dataframe tbody tr th {\n",
       "        vertical-align: top;\n",
       "    }\n",
       "\n",
       "    .dataframe thead th {\n",
       "        text-align: right;\n",
       "    }\n",
       "</style>\n",
       "<table border=\"1\" class=\"dataframe\">\n",
       "  <thead>\n",
       "    <tr style=\"text-align: right;\">\n",
       "      <th></th>\n",
       "      <th>id</th>\n",
       "      <th>gender</th>\n",
       "      <th>age</th>\n",
       "      <th>driving_license</th>\n",
       "      <th>region_code</th>\n",
       "      <th>previously_insured</th>\n",
       "      <th>vehicle_age</th>\n",
       "      <th>vehicle_damage</th>\n",
       "      <th>annual_premium</th>\n",
       "      <th>policy_sales_channel</th>\n",
       "      <th>vintage</th>\n",
       "      <th>response</th>\n",
       "    </tr>\n",
       "  </thead>\n",
       "  <tbody>\n",
       "    <tr>\n",
       "      <th>318785</th>\n",
       "      <td>318786</td>\n",
       "      <td>Male</td>\n",
       "      <td>65</td>\n",
       "      <td>1</td>\n",
       "      <td>28</td>\n",
       "      <td>0</td>\n",
       "      <td>old</td>\n",
       "      <td>1</td>\n",
       "      <td>44279</td>\n",
       "      <td>122</td>\n",
       "      <td>85</td>\n",
       "      <td>1</td>\n",
       "    </tr>\n",
       "  </tbody>\n",
       "</table>\n",
       "</div>"
      ],
      "text/plain": [
       "            id gender  age  driving_license  region_code  previously_insured  \\\n",
       "318785  318786   Male   65                1           28                   0   \n",
       "\n",
       "       vehicle_age  vehicle_damage  annual_premium  policy_sales_channel  \\\n",
       "318785         old               1           44279                   122   \n",
       "\n",
       "        vintage  response  \n",
       "318785       85         1  "
      ]
     },
     "execution_count": 54,
     "metadata": {},
     "output_type": "execute_result"
    }
   ],
   "source": [
    "df4.sample()"
   ]
  },
  {
   "cell_type": "code",
   "execution_count": null,
   "metadata": {},
   "outputs": [],
   "source": []
  },
  {
   "cell_type": "code",
   "execution_count": null,
   "metadata": {},
   "outputs": [],
   "source": []
  }
 ],
 "metadata": {
  "kernelspec": {
   "display_name": "Python 3",
   "language": "python",
   "name": "python3"
  },
  "language_info": {
   "codemirror_mode": {
    "name": "ipython",
    "version": 3
   },
   "file_extension": ".py",
   "mimetype": "text/x-python",
   "name": "python",
   "nbconvert_exporter": "python",
   "pygments_lexer": "ipython3",
   "version": "3.6.9"
  }
 },
 "nbformat": 4,
 "nbformat_minor": 4
}
