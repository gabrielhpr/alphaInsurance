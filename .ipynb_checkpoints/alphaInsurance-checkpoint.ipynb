{
 "cells": [
  {
   "cell_type": "markdown",
   "metadata": {},
   "source": [
    "# 0.0. Mission"
   ]
  },
  {
   "cell_type": "markdown",
   "metadata": {
    "ExecuteTime": {
     "end_time": "2021-02-11T17:00:14.900033Z",
     "start_time": "2021-02-11T17:00:14.896006Z"
    }
   },
   "source": [
    "## Context"
   ]
  },
  {
   "cell_type": "markdown",
   "metadata": {},
   "source": [
    "<p> Alpha Insurance is a company that provides health insurance to their customers. With the goal of improving <br> their revenue the product team is thinking about \n",
    "the possibility of offering car insurance to its customers.</p>\n",
    "\n",
    "<p>The enterprise has made a research with over 380,000 customers to know their intention\n",
    "in purchasing the new <br> service. The product team has selected another 127,000 customers\n",
    "that the sales team will try to sell the new service. </p>\n",
    "    \n",
    "<p>As the sales team cannot get in touch with all of the selected customers during the campaign time,\n",
    "they need to <br> give priority to those clients that are more likely to purchase the service. So \n",
    "they need a data scientist to select the <br> 20,000 more interested customers. </p>"
   ]
  },
  {
   "cell_type": "markdown",
   "metadata": {},
   "source": [
    "## Challenge"
   ]
  },
  {
   "cell_type": "markdown",
   "metadata": {},
   "source": [
    "<b>Select the 20,000 customers, that are more interested in buying the car insurance.</b>"
   ]
  },
  {
   "cell_type": "markdown",
   "metadata": {},
   "source": [
    "# 1.0. Preparation Process"
   ]
  },
  {
   "cell_type": "markdown",
   "metadata": {},
   "source": [
    "## 1.1. IMPORTS"
   ]
  },
  {
   "cell_type": "code",
   "execution_count": null,
   "metadata": {
    "ExecuteTime": {
     "end_time": "2021-03-13T17:17:53.225755Z",
     "start_time": "2021-03-13T17:17:53.185652Z"
    }
   },
   "outputs": [],
   "source": [
    "import math\n",
    "import datetime\n",
    "import inflection\n",
    "import numpy as np\n",
    "import pandas as pd\n",
    "import random\n",
    "import matplotlib.pyplot as plt\n",
    "import seaborn as sns\n",
    "import warnings\n",
    "warnings.simplefilter(action='ignore', category=FutureWarning)\n",
    "from IPython.display         import Image\n",
    "import matplotlib.patches as mpatches\n",
    "from scipy                   import stats as ss\n",
    "from sklearn.preprocessing   import RobustScaler, MinMaxScaler, LabelEncoder\n",
    "from boruta                  import BorutaPy\n",
    "from sklearn.metrics         import mean_absolute_error, mean_squared_error\n",
    "from sklearn.ensemble        import RandomForestClassifier\n",
    "from sklearn.linear_model    import LinearRegression, Lasso\n",
    "import xgboost as xgb\n",
    "\n",
    "\n",
    "###--------- PANDAS - EXIBIR TODAS COLUNAS ----###\n",
    "\n",
    "pd.set_option('display.max_columns', None)\n",
    "\n",
    "\n",
    "###--------- ESTILIZAÇÃO DO NOTEBOOK ---------###\n",
    "\n",
    "from IPython.core.display import display, HTML\n",
    "\n",
    "# retira a margem do notebook\n",
    "display(HTML(\"<style>.container { width:100% !important; margin-left:0px !important }</style>\"))\n",
    "# font do texto markdown\n",
    "display(HTML(\"<style>h1 { font-size:23px !important; }</style>\"))\n",
    "display(HTML(\"<style>h2 { font-size:20px !important; }</style>\"))\n",
    "display(HTML(\"<style>h3 { font-size:17px !important; }</style>\"))\n",
    "display(HTML(\"<style>h4 { font-size:16px !important; }</style>\"))\n",
    "display(HTML(\"<style>p { font-size:16px !important; }</style>\"))\n",
    "\n",
    "# tamanho da fonte da tabela\n",
    "display(HTML(\"<style>th { font-size:15px !important; }</style>\"))\n",
    "display(HTML(\"<style>td { font-size:15px !important; }</style>\"))\n",
    "\n",
    "# font do codigo \n",
    "display(HTML(\"<style>span { font-size:16px !important; }</style>\"))"
   ]
  },
  {
   "cell_type": "markdown",
   "metadata": {},
   "source": [
    "## 1.2. Helper Functions"
   ]
  },
  {
   "cell_type": "markdown",
   "metadata": {},
   "source": [
    "### Cramer's V"
   ]
  },
  {
   "cell_type": "code",
   "execution_count": null,
   "metadata": {
    "ExecuteTime": {
     "end_time": "2021-03-13T17:17:46.663544Z",
     "start_time": "2021-03-13T17:17:46.651685Z"
    }
   },
   "outputs": [],
   "source": [
    "def cramer_v( var1, var2 ):\n",
    "    cm = pd.crosstab( var1, var2 ).to_numpy()\n",
    "    n = cm.sum()\n",
    "    r, k = cm.shape\n",
    "    \n",
    "    chi2 = ss.chi2_contingency( cm )[0]\n",
    "    chi2corr = max(0, (chi2/n) - (k-1)*(r-1)/(n-1) )\n",
    "    \n",
    "    kcorr = k - (k-1)**2/(n-1)\n",
    "    rcorr = r - (r-1)**2/(n-1)\n",
    "    \n",
    "    return np.sqrt( chi2corr / min( kcorr-1, rcorr-1 ) )"
   ]
  },
  {
   "cell_type": "markdown",
   "metadata": {},
   "source": [
    "### Measuring Errors"
   ]
  },
  {
   "cell_type": "code",
   "execution_count": null,
   "metadata": {
    "ExecuteTime": {
     "end_time": "2021-03-13T17:17:47.403118Z",
     "start_time": "2021-03-13T17:17:47.398053Z"
    }
   },
   "outputs": [],
   "source": [
    "def accuracy(y, yhat):\n",
    "    hits = 0\n",
    "    for i in range(len(y)):\n",
    "        hits = hits + int(y[i] == yhat[i])\n",
    "    return hits / len(y)\n",
    "\n",
    "def calc_f1_score(y, yhat):\n",
    "    tp = fp = fn = 0\n",
    "    for i in range(len(y)):\n",
    "        # true positive\n",
    "        if (y[i] == 1) and (yhat[i] == 1) :\n",
    "            tp = tp + 1\n",
    "        # false positive\n",
    "        elif (y[i] == 0) and (yhat[i] == 1) :\n",
    "            fp = fp + 1\n",
    "        # false negative\n",
    "        elif (y[i] == 1) and (yhat[i] == 0) :\n",
    "            fn = fn + 1\n",
    "        \n",
    "    if (tp + fp) > 0 :\n",
    "        precision = tp / (tp + fp)\n",
    "    else:\n",
    "        precision = 0\n",
    "\n",
    "    if (tp + fn) > 0 :\n",
    "        recall = tp / (tp + fn)\n",
    "    else:\n",
    "        recall = 0\n",
    "    \n",
    "    if (precision + recall) > 0 :\n",
    "        f1_score = 2*precision*recall / (precision + recall)\n",
    "    else:\n",
    "        f1_score = 0\n",
    "        \n",
    "    return f1_score\n",
    "\n",
    "def ml_error( model_name, y, yhat ):\n",
    "    accuracy_score = accuracy(y, yhat)\n",
    "    f1_score = calc_f1_score(y, yhat)\n",
    "\n",
    "    return pd.DataFrame( { 'Model Name': model_name,\n",
    "                           'Accuracy': accuracy_score,\n",
    "                           'F1-Score': f1_score }, index=[0] )"
   ]
  },
  {
   "cell_type": "markdown",
   "metadata": {},
   "source": [
    "### Cross Validation"
   ]
  },
  {
   "cell_type": "code",
   "execution_count": null,
   "metadata": {},
   "outputs": [],
   "source": [
    "def cross_val_err( x_train, kfold, model_name, model, verbose=False ):\n",
    "    \n",
    "    mae_list = []\n",
    "    mape_list = []\n",
    "    rmse_list = []\n",
    "    x_training = x_train[ cols_selected_boruta ]\n",
    "\n",
    "    for k in reversed( range(1, kfold+1) ):\n",
    "        \n",
    "        if verbose:\n",
    "            print('\\nKfold number: ' + str(k))\n",
    "        # start and end date\n",
    "        validation_start_date = x_training['date'].max() - datetime.timedelta( days= 7 * 6 * k )\n",
    "        validation_end_date = x_training['date'].max() - datetime.timedelta( days= 7 * 6 * (k-1) )\n",
    "\n",
    "        # filtering dataset\n",
    "        training = x_training[ (x_training['date'] < validation_start_date) ]\n",
    "        validation = x_training[ (x_training['date'] >= validation_start_date) & (x_training['date'] <= validation_end_date) ]\n",
    "\n",
    "        # training dataset\n",
    "        xtraining = training.drop( ['date', 'sales'], axis=1 )\n",
    "        ytraining = training['sales']\n",
    "\n",
    "        # validation dataset\n",
    "        xvalidation = validation.drop( ['date', 'sales'], axis=1 )\n",
    "        yvalidation = validation['sales']\n",
    "\n",
    "        # model\n",
    "        md = model.fit( xtraining, ytraining )\n",
    "\n",
    "        # prediction\n",
    "        yhat_md = md.predict( xvalidation )\n",
    "\n",
    "        # performance\n",
    "        resp_error = ml_error(model_name, np.expm1( yvalidation ), np.expm1( yhat_md ) )\n",
    "\n",
    "        # adding the error to the list\n",
    "        mae_list.append( resp_error['MAE'].values )\n",
    "        mape_list.append( resp_error['MAPE'].values )\n",
    "        rmse_list.append( resp_error['RMSE'].values )\n",
    "        \n",
    "    return pd.DataFrame({ 'Model name': model_name,\n",
    "                          'MAE CV' : np.round( np.mean( np.array( mae_list ) ), 2).astype(str) + ' +/- ' + np.round( np.std( np.array( mae_list ) ) ).astype(str),\n",
    "                          'MAPE CV': np.round( np.mean( np.array( mape_list ) ), 2).astype(str) + ' +/- ' + np.round( np.std( np.array( mape_list ) ), decimals=4 ).astype(str),\n",
    "                          'RMSE CV': np.round( np.mean( np.array( rmse_list ) ), 2).astype(str) + ' +/- ' + np.round( np.std( np.array( rmse_list ) ) ).astype(str)\n",
    "                         }, index=[0])"
   ]
  },
  {
   "cell_type": "markdown",
   "metadata": {},
   "source": [
    "### CATEGORICAL CHART CREATOR"
   ]
  },
  {
   "cell_type": "code",
   "execution_count": null,
   "metadata": {
    "ExecuteTime": {
     "end_time": "2021-03-07T00:20:10.924624Z",
     "start_time": "2021-03-07T00:20:10.836457Z"
    }
   },
   "outputs": [],
   "source": [
    "# categories - list containing all the categories of the feature\n",
    "# text_list - list containing the text behind each bar of the plot\n",
    "def createCategoryPlots(fig_width, fig_height, df, feature_name, title1, title2, categories, text_list):\n",
    "    plt.figure(figsize=(fig_width, fig_height))\n",
    "    plt.subplots_adjust(left=None, bottom=None, right=None, top=None, wspace=0.3, hspace=0.3)\n",
    "    \n",
    "    # plot a countplot\n",
    "    plt.subplot( 1, 2, 1 )\n",
    "    plt.title( title1 )\n",
    "    sns.countplot( df[feature_name] )\n",
    "    \n",
    "    percentage_list = []\n",
    "    \n",
    "    for i in range( len( categories ) ):\n",
    "        feature_num_accept = df[ ( df['response'] == 1 ) & ( df[feature_name] == categories[i] ) ].count()[0]\n",
    "        feature_num_reject = df[ ( df['response'] == 0 ) & ( df[feature_name] == categories[i] ) ].count()[0]\n",
    "        feature_perc_accept = feature_num_accept / (feature_num_accept + feature_num_reject)\n",
    "        percentage_list.append( feature_perc_accept )\n",
    "    \n",
    "    plt.subplot( 1, 2, 2 )\n",
    "    plt.title( title2 )\n",
    "    plt.ylabel( 'Percentage' )\n",
    "    plt.xlabel( feature_name )\n",
    "    sns.barplot( x = [ text_list[i].format( np.round ( 100 * percentage_list[i], 3 ) ) for i in range(len(categories))],\n",
    "                 y = percentage_list )"
   ]
  },
  {
   "cell_type": "code",
   "execution_count": null,
   "metadata": {
    "ExecuteTime": {
     "end_time": "2021-03-07T00:20:12.322821Z",
     "start_time": "2021-03-07T00:20:10.926094Z"
    }
   },
   "outputs": [],
   "source": [
    "# categories - list containing all the categories of the feature\n",
    "# text_list - list containing the text behind each bar of the plot\n",
    "def createCategoryPlots2(fig_width, fig_height, df, feature_name, title1, title2, categories, text_list):\n",
    "    plt.figure(figsize=(fig_width, fig_height))\n",
    "    plt.subplots_adjust(left=None, bottom=None, right=None, top=None, wspace=0.3, hspace=0.3)\n",
    "    \n",
    "    # plot a countplot\n",
    "    plt.subplot( 1, 2, 1 )\n",
    "    plt.title( title1 )\n",
    "    sns.countplot( df[feature_name] )\n",
    "    \n",
    "    percentage_list = []\n",
    "\n",
    "    num_accept = df[ df['response'] == 1 ].count()[0]\n",
    "\n",
    "    for i in range( len( categories ) ):\n",
    "        feature_num_accept = df[ ( df['response'] == 1 ) & ( df[feature_name] == categories[i] ) ].count()[0]\n",
    "        feature_perc_accept = feature_num_accept / num_accept\n",
    "        percentage_list.append( feature_perc_accept )\n",
    "    \n",
    "    plt.subplot( 1, 2, 2 )\n",
    "    plt.title( title2 )\n",
    "    plt.ylabel( 'Percentage' )\n",
    "    plt.xlabel( feature_name )\n",
    "    sns.barplot( x = [ text_list[i].format( np.round ( 100 * percentage_list[i], 3 ) ) for i in range(len(categories))],\n",
    "                 y = percentage_list )"
   ]
  },
  {
   "cell_type": "markdown",
   "metadata": {},
   "source": [
    "## 1.3. Loading Data"
   ]
  },
  {
   "cell_type": "code",
   "execution_count": null,
   "metadata": {
    "ExecuteTime": {
     "end_time": "2021-03-07T00:20:12.884469Z",
     "start_time": "2021-03-07T00:20:12.328456Z"
    }
   },
   "outputs": [],
   "source": [
    "train_raw_data = pd.read_csv('data/train.csv', low_memory=False)\n",
    "test_raw_data = pd.read_csv('data/test.csv', low_memory=False)"
   ]
  },
  {
   "cell_type": "code",
   "execution_count": null,
   "metadata": {
    "ExecuteTime": {
     "end_time": "2021-03-07T00:20:12.926069Z",
     "start_time": "2021-03-07T00:20:12.890062Z"
    }
   },
   "outputs": [],
   "source": [
    "train_raw_data.sample()"
   ]
  },
  {
   "cell_type": "markdown",
   "metadata": {},
   "source": [
    "# 2.0. Data Description"
   ]
  },
  {
   "cell_type": "code",
   "execution_count": null,
   "metadata": {
    "ExecuteTime": {
     "end_time": "2021-03-07T00:20:13.039727Z",
     "start_time": "2021-03-07T00:20:12.928468Z"
    }
   },
   "outputs": [],
   "source": [
    "df2 = train_raw_data.copy()"
   ]
  },
  {
   "cell_type": "markdown",
   "metadata": {
    "heading_collapsed": true
   },
   "source": [
    "## 2.1. Rename Columns"
   ]
  },
  {
   "cell_type": "code",
   "execution_count": null,
   "metadata": {
    "ExecuteTime": {
     "end_time": "2021-03-07T00:20:14.467298Z",
     "start_time": "2021-03-07T00:20:13.041628Z"
    },
    "hidden": true
   },
   "outputs": [],
   "source": [
    "cols_old = ['id', 'Gender', 'Age', 'Driving_License', 'Region_Code',\n",
    "               'Previously_Insured', 'Vehicle_Age', 'Vehicle_Damage', 'Annual_Premium',\n",
    "               'Policy_Sales_Channel', 'Vintage', 'Response']\n",
    "cols_old"
   ]
  },
  {
   "cell_type": "code",
   "execution_count": null,
   "metadata": {
    "ExecuteTime": {
     "end_time": "2021-03-07T00:20:14.579113Z",
     "start_time": "2021-03-07T00:20:14.469114Z"
    },
    "hidden": true
   },
   "outputs": [],
   "source": [
    "snakecase = lambda x: inflection.underscore( x )\n",
    "\n",
    "cols_new = list( map( snakecase, cols_old ) )\n",
    "\n",
    "df2.columns = cols_new"
   ]
  },
  {
   "cell_type": "markdown",
   "metadata": {
    "heading_collapsed": true
   },
   "source": [
    "## 2.2. Data Dimension"
   ]
  },
  {
   "cell_type": "code",
   "execution_count": null,
   "metadata": {
    "ExecuteTime": {
     "end_time": "2021-03-07T00:20:14.646492Z",
     "start_time": "2021-03-07T00:20:14.580706Z"
    },
    "hidden": true
   },
   "outputs": [],
   "source": [
    "print('The number of rows is: {}'.format( df2.shape[0] ))\n",
    "print('The number of columns is: {}'.format( df2.shape[1] ))"
   ]
  },
  {
   "cell_type": "markdown",
   "metadata": {},
   "source": [
    "## 2.3. Data Types"
   ]
  },
  {
   "cell_type": "code",
   "execution_count": null,
   "metadata": {
    "ExecuteTime": {
     "end_time": "2021-03-07T00:20:14.715827Z",
     "start_time": "2021-03-07T00:20:14.648650Z"
    }
   },
   "outputs": [],
   "source": [
    "df2.dtypes"
   ]
  },
  {
   "cell_type": "markdown",
   "metadata": {},
   "source": [
    "## 2.4. Check NA"
   ]
  },
  {
   "cell_type": "code",
   "execution_count": null,
   "metadata": {
    "ExecuteTime": {
     "end_time": "2021-03-07T00:20:14.832577Z",
     "start_time": "2021-03-07T00:20:14.719371Z"
    }
   },
   "outputs": [],
   "source": [
    "df2.isna().sum()"
   ]
  },
  {
   "cell_type": "markdown",
   "metadata": {
    "ExecuteTime": {
     "end_time": "2021-02-16T00:19:07.298206Z",
     "start_time": "2021-02-16T00:19:07.291018Z"
    },
    "heading_collapsed": true
   },
   "source": [
    "## 2.5. Change Types"
   ]
  },
  {
   "cell_type": "code",
   "execution_count": null,
   "metadata": {
    "ExecuteTime": {
     "end_time": "2021-03-07T00:20:14.861562Z",
     "start_time": "2021-03-07T00:20:14.834411Z"
    },
    "hidden": true
   },
   "outputs": [],
   "source": [
    "# Check if can convert region_code from float to int\n",
    "aux1 = np.array( df2['region_code'] )\n",
    "aux2 = aux1.astype(int)\n",
    "np.sum( aux1 - aux2 )\n",
    "\n",
    "# Converting region_code from float to int\n",
    "df2['region_code'] = df2['region_code'].astype(int)"
   ]
  },
  {
   "cell_type": "markdown",
   "metadata": {
    "ExecuteTime": {
     "end_time": "2021-02-15T18:17:42.069886Z",
     "start_time": "2021-02-15T18:17:42.061715Z"
    },
    "hidden": true
   },
   "source": [
    "### vehicle_age"
   ]
  },
  {
   "cell_type": "markdown",
   "metadata": {
    "hidden": true
   },
   "source": [
    "vehicle_age is an object, we need to convert it to float. \n",
    "    \n",
    " It's necessary to assume numerical values for the:\n",
    "3 options\n",
    "\n",
    "< 1 Year  -->   0.5,  we assumed the mean value\n",
    "    \n",
    "1-2 Year  -->   1.5,  we assumed the mean value\n",
    "\n",
    "\\> 2 Year  -->   7.5, it's difficult to consider some mean value, so lets consider a number 5 times bigger than the previous\n"
   ]
  },
  {
   "cell_type": "code",
   "execution_count": null,
   "metadata": {
    "ExecuteTime": {
     "end_time": "2021-03-07T00:20:15.720941Z",
     "start_time": "2021-03-07T00:20:14.863986Z"
    },
    "hidden": true
   },
   "outputs": [],
   "source": [
    "# Changing categories' names of vehicle age\n",
    "df2['vehicle_age'] = df2['vehicle_age'].apply(lambda x: 'new' if x == '< 1 Year' else 'almost_new' if x =='1-2 Year' else 'old')\n",
    "\n",
    "# Convert annual_premium from float to int\n",
    "df2['annual_premium'] = df2['annual_premium'].astype(int)\n",
    "\n",
    "# Convert policy_sales_channel from float to int\n",
    "df2['policy_sales_channel'] = df2['policy_sales_channel'].astype(int)\n",
    "\n",
    "# Convert vehicle_damage from object to int\n",
    "df2['vehicle_damage'] = df2['vehicle_damage'].apply(lambda x: 0 if x=='No' else 1)"
   ]
  },
  {
   "cell_type": "code",
   "execution_count": null,
   "metadata": {
    "ExecuteTime": {
     "end_time": "2021-03-07T00:20:15.730917Z",
     "start_time": "2021-03-07T00:20:15.722507Z"
    },
    "hidden": true
   },
   "outputs": [],
   "source": [
    "df2.dtypes"
   ]
  },
  {
   "cell_type": "markdown",
   "metadata": {
    "heading_collapsed": true
   },
   "source": [
    "## 2.6. Split data between Categorical and Numerical data"
   ]
  },
  {
   "cell_type": "code",
   "execution_count": null,
   "metadata": {
    "ExecuteTime": {
     "end_time": "2021-03-07T00:20:15.855656Z",
     "start_time": "2021-03-07T00:20:15.734327Z"
    },
    "hidden": true
   },
   "outputs": [],
   "source": [
    "df2.sample()"
   ]
  },
  {
   "cell_type": "code",
   "execution_count": null,
   "metadata": {
    "ExecuteTime": {
     "end_time": "2021-03-07T00:20:15.893119Z",
     "start_time": "2021-03-07T00:20:15.860635Z"
    },
    "hidden": true
   },
   "outputs": [],
   "source": [
    "num_data = df2[['age', 'annual_premium', 'vintage']]\n",
    "cat_data = df2[['gender', 'vehicle_age' ,'driving_license', 'region_code', 'previously_insured', 'vehicle_damage', 'policy_sales_channel']]"
   ]
  },
  {
   "cell_type": "markdown",
   "metadata": {},
   "source": [
    "## 2.7. Descriptive Statistics"
   ]
  },
  {
   "cell_type": "markdown",
   "metadata": {
    "ExecuteTime": {
     "end_time": "2021-02-15T22:02:44.424918Z",
     "start_time": "2021-02-15T22:02:44.413947Z"
    }
   },
   "source": [
    "### Relevant metrics"
   ]
  },
  {
   "cell_type": "code",
   "execution_count": null,
   "metadata": {
    "ExecuteTime": {
     "end_time": "2021-03-07T00:20:16.268783Z",
     "start_time": "2021-03-07T00:20:15.896735Z"
    }
   },
   "outputs": [],
   "source": [
    "num_mean = pd.DataFrame( num_data.apply( np.mean ) ).T\n",
    "num_std = pd.DataFrame( num_data.apply( np.std ) ).T\n",
    "num_median = pd.DataFrame( num_data.apply( np.median ) ).T\n",
    "num_min = pd.DataFrame( num_data.apply( min ) ).T\n",
    "num_max = pd.DataFrame( num_data.apply( max ) ).T\n",
    "num_range = pd.DataFrame( num_data.apply( lambda x: x.max() - x.min() ) ).T\n",
    "num_skew = pd.DataFrame( num_data.apply( lambda x: x.skew() ) ).T\n",
    "num_kurtosis = pd.DataFrame( num_data.apply( lambda x: x.kurtosis() ) ).T\n",
    "\n",
    "analysis_table = pd.concat( [num_mean, num_std, num_median, num_min, num_max, num_range, num_skew, num_kurtosis] ).T\n",
    "analysis_table.columns = ['mean', 'std', 'median', 'min', 'max', 'range', 'skew', 'kurtosis']"
   ]
  },
  {
   "cell_type": "code",
   "execution_count": null,
   "metadata": {
    "ExecuteTime": {
     "end_time": "2021-03-07T00:20:16.285686Z",
     "start_time": "2021-03-07T00:20:16.270628Z"
    }
   },
   "outputs": [],
   "source": [
    "analysis_table"
   ]
  },
  {
   "cell_type": "code",
   "execution_count": null,
   "metadata": {
    "ExecuteTime": {
     "end_time": "2021-03-07T00:20:18.543648Z",
     "start_time": "2021-03-07T00:20:16.289216Z"
    }
   },
   "outputs": [],
   "source": [
    "plt.figure(figsize=(8,8))\n",
    "plt.xticks( np.arange(0, 100000, 5000), rotation=-30 )\n",
    "plt.axvline(x=num_mean['annual_premium'][0], ymin=0, ymax=1, label='mean', color='r')\n",
    "plt.axvline(x=num_median['annual_premium'][0], ymin=0, ymax=1, label='median', color='g')\n",
    "plt.legend()\n",
    "sns.distplot( df2['annual_premium'] ).set_xlim(1,100000)"
   ]
  },
  {
   "cell_type": "code",
   "execution_count": null,
   "metadata": {
    "ExecuteTime": {
     "end_time": "2021-03-07T00:20:18.594295Z",
     "start_time": "2021-03-07T00:20:18.545518Z"
    }
   },
   "outputs": [],
   "source": [
    "# Amount of categories in each categorical variable\n",
    "cat_data.apply( lambda x: x.unique().shape[0] )"
   ]
  },
  {
   "cell_type": "markdown",
   "metadata": {
    "heading_collapsed": true
   },
   "source": [
    "#### Boxplots"
   ]
  },
  {
   "cell_type": "code",
   "execution_count": null,
   "metadata": {
    "ExecuteTime": {
     "end_time": "2021-03-07T00:20:19.912964Z",
     "start_time": "2021-03-07T00:20:18.596510Z"
    },
    "hidden": true
   },
   "outputs": [],
   "source": [
    "plt.figure(figsize=(12,20))\n",
    "plt.subplots_adjust(left=None, bottom=None, right=2, top=None, wspace=None, hspace=None)\n",
    "\n",
    "plt.subplot(2,2,1)\n",
    "aux = df2[ df2['gender'] == 'Male' ]\n",
    "sns.countplot( aux['response'] ).set_title('Men\\'s insurance acceptance')\n",
    "\n",
    "plt.subplot(2,2,2)\n",
    "aux2 = df2[ df2['gender'] == 'Female' ]\n",
    "sns.countplot( aux2['response'] ).set_title('Women\\'s insurance acceptance')\n",
    "\n",
    "plt.subplot(2,2,3)\n",
    "aux3 = df2[ df2['vehicle_damage'] == 1 ]\n",
    "sns.countplot( aux3['response'] ).set_title('Insurance acceptance of people who already had a vehicle damage')\n",
    "\n",
    "plt.subplot(2,2,4)\n",
    "aux4 = df2[ df2['vehicle_damage'] == 0 ]\n",
    "sns.countplot( aux4['response'] ).set_title('Insurance acceptance of people who have never had a vehicle damage')\n"
   ]
  },
  {
   "cell_type": "code",
   "execution_count": null,
   "metadata": {
    "ExecuteTime": {
     "end_time": "2021-03-07T00:20:19.927858Z",
     "start_time": "2021-03-07T00:20:19.914831Z"
    },
    "hidden": true
   },
   "outputs": [],
   "source": [
    "cat_data"
   ]
  },
  {
   "cell_type": "markdown",
   "metadata": {
    "heading_collapsed": true
   },
   "source": [
    "# 3.0. Feature Engineering"
   ]
  },
  {
   "cell_type": "code",
   "execution_count": null,
   "metadata": {
    "ExecuteTime": {
     "end_time": "2021-03-07T00:20:20.492819Z",
     "start_time": "2021-03-07T00:20:19.930878Z"
    },
    "hidden": true
   },
   "outputs": [],
   "source": [
    "df3 = df2.copy()"
   ]
  },
  {
   "cell_type": "code",
   "execution_count": null,
   "metadata": {
    "ExecuteTime": {
     "end_time": "2021-03-07T00:20:20.569487Z",
     "start_time": "2021-03-07T00:20:20.494400Z"
    },
    "hidden": true
   },
   "outputs": [],
   "source": [
    "Image('img/CAR_INSURANCE_MIND_MAP.png')"
   ]
  },
  {
   "cell_type": "markdown",
   "metadata": {
    "heading_collapsed": true,
    "hidden": true
   },
   "source": [
    "## 3.1. Hypothesis creation"
   ]
  },
  {
   "cell_type": "markdown",
   "metadata": {
    "heading_collapsed": true,
    "hidden": true
   },
   "source": [
    "### 3.1.1. Hypothesis about the client"
   ]
  },
  {
   "cell_type": "markdown",
   "metadata": {
    "hidden": true
   },
   "source": [
    "**1.** Clients with higher VINTAGE, have higher chances of accepting a new service from the company.\n",
    "\n",
    "**2.** Clients that already have a car's insurance have lower chances of accepting another car's insurance.\n",
    "\n",
    "**3.** Clients that have a driving license are more proned to accept a car's insurance, than those that dont have one.\n",
    "\n",
    "**4.** Clients that are young have higher chances of purchasing a car's insurance.\n",
    "\n",
    "**5.** Clients who live in dangerous areas are more proned to purchase a car's insurance.\n",
    "\n",
    "**6.** Clients whose annual premium is expensive, tends to not purchase a car's insurance."
   ]
  },
  {
   "cell_type": "markdown",
   "metadata": {
    "heading_collapsed": true,
    "hidden": true
   },
   "source": [
    "### 3.1.2. Hypothesis about the vehicle"
   ]
  },
  {
   "cell_type": "markdown",
   "metadata": {
    "hidden": true
   },
   "source": [
    "**1.** Clients whose vehicle is new are more proned to purchase a car's insurance.\n",
    "\n",
    "**2.** Clients whose vehicle has been already damaged, tends to purchase a car's insurance."
   ]
  },
  {
   "cell_type": "markdown",
   "metadata": {
    "ExecuteTime": {
     "end_time": "2021-02-16T00:02:41.941373Z",
     "start_time": "2021-02-16T00:02:41.937677Z"
    },
    "heading_collapsed": true,
    "hidden": true
   },
   "source": [
    "## 3.2. Final hypothesis list"
   ]
  },
  {
   "cell_type": "markdown",
   "metadata": {
    "hidden": true
   },
   "source": [
    "Choose the hypothesis that the needed data are available for prediction."
   ]
  },
  {
   "cell_type": "markdown",
   "metadata": {
    "ExecuteTime": {
     "end_time": "2021-02-16T00:04:49.315035Z",
     "start_time": "2021-02-16T00:04:49.293443Z"
    },
    "hidden": true
   },
   "source": [
    "**1.** Clients with higher VINTAGE, have higher chances of accepting a new service from the company.\n",
    "\n",
    "**2.** Clients that already have a car's insurance have lower chances of accepting another car's insurance.\n",
    "\n",
    "**3.** Clients that have a driving license are more proned to accept a car's insurance, than those that dont have one.\n",
    "\n",
    "**4.** Clients that are young have higher chances of purchasing a car's insurance.\n",
    "\n",
    "**5.** Clients who live in dangerous areas are more proned to purchase a car's insurance.\n",
    "\n",
    "**6.** Clients whose annual premium is expensive, tends to not purchase a car's insurance.\n",
    "\n",
    "**7.** Clients whose vehicle is new are more proned to purchase a car's insurance.\n",
    "\n",
    "**8.** Clients whose vehicle has been already damaged, tends to purchase a car's insurance."
   ]
  },
  {
   "cell_type": "code",
   "execution_count": null,
   "metadata": {
    "ExecuteTime": {
     "end_time": "2021-03-07T00:20:20.633005Z",
     "start_time": "2021-03-07T00:20:20.571637Z"
    },
    "hidden": true
   },
   "outputs": [],
   "source": [
    "df3.sample()"
   ]
  },
  {
   "cell_type": "markdown",
   "metadata": {
    "ExecuteTime": {
     "end_time": "2021-02-16T00:23:29.542920Z",
     "start_time": "2021-02-16T00:23:29.531528Z"
    },
    "hidden": true
   },
   "source": [
    "## 3.3. Deriving New Variables"
   ]
  },
  {
   "cell_type": "markdown",
   "metadata": {
    "heading_collapsed": true
   },
   "source": [
    "# 4.0. Exploratory Data Analysis"
   ]
  },
  {
   "cell_type": "code",
   "execution_count": null,
   "metadata": {
    "ExecuteTime": {
     "end_time": "2021-03-07T00:20:20.697483Z",
     "start_time": "2021-03-07T00:20:20.634942Z"
    },
    "hidden": true
   },
   "outputs": [],
   "source": [
    "df4 = df3.copy()"
   ]
  },
  {
   "cell_type": "markdown",
   "metadata": {
    "heading_collapsed": true,
    "hidden": true
   },
   "source": [
    "## 4.1. Univariate Analysis"
   ]
  },
  {
   "cell_type": "markdown",
   "metadata": {
    "heading_collapsed": true,
    "hidden": true
   },
   "source": [
    "### 4.1.1. Response Variable"
   ]
  },
  {
   "cell_type": "code",
   "execution_count": null,
   "metadata": {
    "ExecuteTime": {
     "end_time": "2021-03-07T00:20:20.871653Z",
     "start_time": "2021-03-07T00:20:20.698852Z"
    },
    "hidden": true
   },
   "outputs": [],
   "source": [
    "sns.countplot( df4['response'] )"
   ]
  },
  {
   "cell_type": "markdown",
   "metadata": {
    "heading_collapsed": true,
    "hidden": true
   },
   "source": [
    "### 4.1.2. Numerical Variables"
   ]
  },
  {
   "cell_type": "code",
   "execution_count": null,
   "metadata": {
    "ExecuteTime": {
     "end_time": "2021-03-07T00:20:26.017947Z",
     "start_time": "2021-03-07T00:20:20.874276Z"
    },
    "hidden": true
   },
   "outputs": [],
   "source": [
    "plt.figure(figsize=(17,11))\n",
    "plt.subplot(2,2,1)\n",
    "plt.title('Distribution of ages')\n",
    "plt.xticks( np.arange(0, 100, 5), rotation=0 )\n",
    "sns.histplot(df4['age'])\n",
    "\n",
    "plt.subplot(2,2,2)\n",
    "plt.title('Distribution of annual premium')\n",
    "plt.xticks( np.arange(0, 70000, 5000), rotation=-30 )\n",
    "plt.xlim(0,70000)  \n",
    "sns.histplot(df4['annual_premium'])\n",
    "\n",
    "plt.subplot(2,2,3)\n",
    "plt.title('Distribution of vintage')\n",
    "plt.xticks( np.arange(0, 320, 20), rotation=-20 )\n",
    "sns.histplot(df4['vintage'])"
   ]
  },
  {
   "cell_type": "markdown",
   "metadata": {
    "heading_collapsed": true,
    "hidden": true
   },
   "source": [
    "### 4.1.3. Categorical Variables"
   ]
  },
  {
   "cell_type": "code",
   "execution_count": null,
   "metadata": {
    "ExecuteTime": {
     "end_time": "2021-03-07T00:20:26.026575Z",
     "start_time": "2021-03-07T00:20:26.020370Z"
    },
    "hidden": true
   },
   "outputs": [],
   "source": [
    "cat_data.columns"
   ]
  },
  {
   "cell_type": "markdown",
   "metadata": {
    "heading_collapsed": true,
    "hidden": true
   },
   "source": [
    "#### Gender"
   ]
  },
  {
   "cell_type": "code",
   "execution_count": null,
   "metadata": {
    "ExecuteTime": {
     "end_time": "2021-03-07T00:20:27.000324Z",
     "start_time": "2021-03-07T00:20:26.029139Z"
    },
    "hidden": true
   },
   "outputs": [],
   "source": [
    "plt.figure(figsize=(13,7))\n",
    "plt.subplots_adjust(left=None, bottom=None, right=None, top=None, wspace=0.3, hspace=0.3)\n",
    "\n",
    "# Amount of data collected from each gender\n",
    "plt.subplot(1,2,1)\n",
    "plt.title('Amount of data collected from each gender')\n",
    "sns.countplot(df4['gender'])\n",
    "\n",
    "\n",
    "# Percentages of purchases intention in male gender\n",
    "\n",
    "# Selecting just the gender male\n",
    "df_male = df4[ df4['gender'] == 'Male' ]\n",
    "male_num_accept = df_male[ df_male['response'] == 1 ].count()[0]\n",
    "male_num_reject = df_male[ df_male['response'] == 0 ].count()[0]\n",
    "male_accept_perc = (male_num_accept) / (male_num_accept + male_num_reject)\n",
    "\n",
    "# Percentage of purchases intention in female gender\n",
    "plt.subplot(1,2,2)\n",
    "# Selecting just the gender female\n",
    "df_female = df4[ df4['gender'] == 'Female' ]\n",
    "female_num_accept = df_female[ df_female['response'] == 1 ].count()[0]\n",
    "female_num_reject = df_female[ df_female['response'] == 0 ].count()[0]\n",
    "female_accept_perc = (female_num_accept) / (female_num_accept + female_num_reject)\n",
    "\n",
    "plt.title('Percentage of purchases intention per GENDER')\n",
    "#plt.yticks( np.arange(0,1,0.1), rotation=0 )\n",
    "sns.barplot( x=['\\nMALE ({} %)'.format( np.round ( 100 * male_accept_perc, 3 ) ),\n",
    "                '\\nFEMALE ({} %)'.format( np.round (100 * female_accept_perc, 3 ) )],\n",
    "             y=[male_accept_perc, female_accept_perc] );\n"
   ]
  },
  {
   "cell_type": "markdown",
   "metadata": {
    "heading_collapsed": true,
    "hidden": true
   },
   "source": [
    "#### Vehicle's Age"
   ]
  },
  {
   "cell_type": "code",
   "execution_count": null,
   "metadata": {
    "ExecuteTime": {
     "end_time": "2021-03-07T00:20:27.601739Z",
     "start_time": "2021-03-07T00:20:27.007691Z"
    },
    "hidden": true
   },
   "outputs": [],
   "source": [
    "title1 = 'Amount of cars per age category'\n",
    "title2 = 'Percentage of purchases intention \\n by CAR\\'S AGE'\n",
    "textos = ['\\nNew \\n  ({} %)', '\\nAlmost new \\n  ({} %)\\n', '\\nOld \\n ({} %)']\n",
    "categories = ['new', 'almost_new', 'old']\n",
    "createCategoryPlots(13, 7, df4, 'vehicle_age', title1, title2, categories, textos)\n"
   ]
  },
  {
   "cell_type": "markdown",
   "metadata": {
    "ExecuteTime": {
     "end_time": "2021-02-21T18:02:10.098601Z",
     "start_time": "2021-02-21T18:02:10.091466Z"
    },
    "heading_collapsed": true,
    "hidden": true
   },
   "source": [
    "#### Driving License"
   ]
  },
  {
   "cell_type": "code",
   "execution_count": null,
   "metadata": {
    "ExecuteTime": {
     "end_time": "2021-03-07T00:20:27.924555Z",
     "start_time": "2021-03-07T00:20:27.603854Z"
    },
    "hidden": true
   },
   "outputs": [],
   "source": [
    "title1 = 'Amount of people that have or not a driving license'\n",
    "title2 = 'Percentage of purchases intention \\n by having or not a DRIVING LICENSE'\n",
    "textos = ['\\nHas a driving license \\n  ({} %)', '\\nDoesn\\'t have a driving license  \\n ({} %)']\n",
    "categories = [1, 0]\n",
    "createCategoryPlots(15, 7, df4, 'driving_license', title1, title2, categories, textos)"
   ]
  },
  {
   "cell_type": "code",
   "execution_count": null,
   "metadata": {
    "ExecuteTime": {
     "end_time": "2021-03-07T00:20:27.948622Z",
     "start_time": "2021-03-07T00:20:27.926574Z"
    },
    "hidden": true
   },
   "outputs": [],
   "source": [
    "df4.sample()"
   ]
  },
  {
   "cell_type": "markdown",
   "metadata": {
    "ExecuteTime": {
     "end_time": "2021-02-21T20:25:35.129461Z",
     "start_time": "2021-02-21T20:25:35.113013Z"
    },
    "heading_collapsed": true,
    "hidden": true
   },
   "source": [
    "#### Region Code"
   ]
  },
  {
   "cell_type": "code",
   "execution_count": null,
   "metadata": {
    "ExecuteTime": {
     "end_time": "2021-03-07T00:20:30.133109Z",
     "start_time": "2021-03-07T00:20:27.954900Z"
    },
    "hidden": true
   },
   "outputs": [],
   "source": [
    "plt.figure(figsize=(15,15))\n",
    "plt.subplots_adjust(left=None, bottom=None, right=None, top=None, wspace=0.3, hspace=0.3)\n",
    "\n",
    "plt.subplot(3,1,1)\n",
    "plt.title('Amount of interviewed customers per region code')\n",
    "sns.countplot( df4['region_code'] )\n",
    "\n",
    "# Calculating the percentage of interested customers per region code\n",
    "df_accept_per_region_code = df4[ df4['response'] == 1 ]\n",
    "df_reject_per_region_code = df4[ df4['response'] == 0 ]\n",
    "\n",
    "region_code_accept_num = np.array( df_accept_per_region_code.groupby('region_code').size() )\n",
    "region_code_reject_num = np.array( df_reject_per_region_code.groupby('region_code').size() )\n",
    "\n",
    "region_code_perc_accept = region_code_accept_num / (region_code_accept_num + region_code_reject_num)\n",
    "\n",
    "plt.subplot(3,1,2)\n",
    "plt.title('Percentage of purchasing interested by region code')\n",
    "sns.barplot(x= np.sort( df4['region_code'].unique() ), y=region_code_perc_accept )\n"
   ]
  },
  {
   "cell_type": "markdown",
   "metadata": {
    "heading_collapsed": true,
    "hidden": true
   },
   "source": [
    "#### previously_insured"
   ]
  },
  {
   "cell_type": "code",
   "execution_count": null,
   "metadata": {
    "ExecuteTime": {
     "end_time": "2021-03-07T00:20:30.496401Z",
     "start_time": "2021-03-07T00:20:30.135450Z"
    },
    "hidden": true
   },
   "outputs": [],
   "source": [
    "title1 = 'Amount of interviewed customers that were \\n previously insured or not'\n",
    "title2 = 'Percentage of purchases intention \\n by have being or not PREVIOUSLY INSURED'\n",
    "textos = ['\\nHas been already insured \\n  ({} %)', '\\nHas never been insured \\n ({} %)']\n",
    "categories = [1, 0]\n",
    "createCategoryPlots(15, 7, df4, 'previously_insured', title1, title2, categories, textos)"
   ]
  },
  {
   "cell_type": "code",
   "execution_count": null,
   "metadata": {
    "ExecuteTime": {
     "end_time": "2021-03-07T00:20:30.531540Z",
     "start_time": "2021-03-07T00:20:30.499136Z"
    },
    "hidden": true
   },
   "outputs": [],
   "source": [
    "df4.sample()\n"
   ]
  },
  {
   "cell_type": "markdown",
   "metadata": {
    "heading_collapsed": true,
    "hidden": true
   },
   "source": [
    "#### vehicle_damage"
   ]
  },
  {
   "cell_type": "code",
   "execution_count": null,
   "metadata": {
    "ExecuteTime": {
     "end_time": "2021-03-07T00:20:31.251793Z",
     "start_time": "2021-03-07T00:20:30.533871Z"
    },
    "hidden": true
   },
   "outputs": [],
   "source": [
    "title1 = 'Amount of interviewed customers that the car was \\n previously damaged'\n",
    "title2 = 'Percentage of purchases intention \\n if the car has been already damage or not'\n",
    "textos = ['\\nThe car has been \\n already damaged \\n ({} %)', '\\nThe car has never been damaged \\n ({} %)']\n",
    "categories = [1, 0]\n",
    "createCategoryPlots(15, 7, df4, 'vehicle_damage', title1, title2,categories, textos)"
   ]
  },
  {
   "cell_type": "markdown",
   "metadata": {
    "heading_collapsed": true,
    "hidden": true
   },
   "source": [
    "#### policy_sales_channel "
   ]
  },
  {
   "cell_type": "code",
   "execution_count": null,
   "metadata": {
    "ExecuteTime": {
     "end_time": "2021-03-07T00:20:35.324745Z",
     "start_time": "2021-03-07T00:20:31.253646Z"
    },
    "hidden": true
   },
   "outputs": [],
   "source": [
    "plt.figure(figsize=(20,15))\n",
    "plt.subplots_adjust(left=None, bottom=None, right=None, top=None, wspace=0.3, hspace=0.3)\n",
    "\n",
    "plt.subplot(2,1,1)\n",
    "plt.title('Amount of policy sales channel')\n",
    "sns.countplot( df4['policy_sales_channel'] )\n",
    "\n",
    "# Calculating the percentage of interested customers per region code\n",
    "df_accept_per_region_code = df4[ df4['response'] == 1 ]\n",
    "df_reject_per_region_code = df4[ df4['response'] == 0 ]\n",
    "\n",
    "accept_l = df_accept_per_region_code.groupby('policy_sales_channel').size().reset_index()\n",
    "reject_l = df_reject_per_region_code.groupby('policy_sales_channel').size().reset_index()\n",
    "\n",
    "aux = pd.merge(accept_l, reject_l, how='outer', on='policy_sales_channel').rename( columns={'0_x':'accept', '0_y':'reject'})\n",
    "aux = aux.fillna(value=0)\n",
    "\n",
    "region_code_accept_num = np.array( aux.sort_values(by='policy_sales_channel')['accept'] )\n",
    "region_code_reject_num = np.array( aux.sort_values(by='policy_sales_channel')['reject'] )\n",
    "\n",
    "region_code_perc_accept = region_code_accept_num / (region_code_accept_num + region_code_reject_num)\n",
    "\n",
    "plt.subplot(2,1,2)\n",
    "plt.title('Percentage of purchasing interested by policy sales channel')\n",
    "plt.xticks(rotation=90)\n",
    "sns.barplot(x= np.sort( df4['policy_sales_channel'].unique() ), y=region_code_perc_accept );"
   ]
  },
  {
   "cell_type": "markdown",
   "metadata": {
    "heading_collapsed": true,
    "hidden": true
   },
   "source": [
    "## 4.2. Bivariate Analysis"
   ]
  },
  {
   "cell_type": "markdown",
   "metadata": {
    "heading_collapsed": true,
    "hidden": true
   },
   "source": [
    "### HIP 1. Clients with higher VINTAGE, have higher chances of accepting a new service from the company."
   ]
  },
  {
   "cell_type": "markdown",
   "metadata": {
    "hidden": true
   },
   "source": [
    "FALSE"
   ]
  },
  {
   "cell_type": "code",
   "execution_count": null,
   "metadata": {
    "ExecuteTime": {
     "end_time": "2021-03-07T00:20:39.412970Z",
     "start_time": "2021-03-07T00:20:35.326529Z"
    },
    "hidden": true
   },
   "outputs": [],
   "source": [
    "aux_accept = df4[ df4['response'] == 1 ]\n",
    "aux_reject = df4[ df4['response'] == 0 ]\n",
    "\n",
    "plt.figure(figsize=(15,12))\n",
    "plt.subplots_adjust(left=None, bottom=None, right=None, top=None, wspace=0.3, hspace=0.3)\n",
    "\n",
    "plt.subplot(2,2,1)\n",
    "plt.title('Distribution of vintage with insurance acceptance')\n",
    "sns.histplot(data=aux_accept, x='vintage', color='green', kde=True)\n",
    "\n",
    "plt.subplot(2,2,2)\n",
    "plt.title('Distribution of vintage with insurance rejection')\n",
    "sns.histplot(data=aux_reject, x='vintage', color=\"red\", kde=True)\n",
    "\n",
    "\n",
    "plt.subplot(2,2,3)\n",
    "plt.title('Distribution of vintage with insurance acceptance')\n",
    "sns.kdeplot(data=aux_accept, x='vintage', color='green')\n",
    "\n",
    "plt.subplot(2,2,4)\n",
    "plt.title('Distribution of vintage with insurance rejection')\n",
    "sns.kdeplot(data=aux_reject, x='vintage', color='red');\n"
   ]
  },
  {
   "cell_type": "markdown",
   "metadata": {
    "heading_collapsed": true,
    "hidden": true
   },
   "source": [
    "### HIP 2. Clients that already have a car's insurance have lower chances of accepting another car's insurance."
   ]
  },
  {
   "cell_type": "markdown",
   "metadata": {
    "hidden": true
   },
   "source": [
    "TRUE"
   ]
  },
  {
   "cell_type": "code",
   "execution_count": null,
   "metadata": {
    "ExecuteTime": {
     "end_time": "2021-03-07T00:20:39.922460Z",
     "start_time": "2021-03-07T00:20:39.415004Z"
    },
    "hidden": true
   },
   "outputs": [],
   "source": [
    "title1 = 'Amount of interviewed customers that were \\n previously insured or not'\n",
    "title2 = 'Percentage of purchases intention \\n by have being or not PREVIOUSLY INSURED'\n",
    "textos = ['\\nHas been already insured \\n  ({} %)', '\\nHas never been insured \\n ({} %)']\n",
    "categories = [1, 0]\n",
    "createCategoryPlots2(15, 7, df4, 'previously_insured', title1, title2, categories, textos)"
   ]
  },
  {
   "cell_type": "markdown",
   "metadata": {
    "heading_collapsed": true,
    "hidden": true
   },
   "source": [
    "### HIP 3. Clients that have a driving license are more proned to accept a car's insurance, than those that dont have one."
   ]
  },
  {
   "cell_type": "markdown",
   "metadata": {
    "hidden": true
   },
   "source": [
    "TRUE"
   ]
  },
  {
   "cell_type": "code",
   "execution_count": null,
   "metadata": {
    "ExecuteTime": {
     "end_time": "2021-03-07T00:20:40.454128Z",
     "start_time": "2021-03-07T00:20:39.925571Z"
    },
    "hidden": true
   },
   "outputs": [],
   "source": [
    "title1 = 'Amount of interviewed customers that have \\n or not a DRIVING LICENSE'\n",
    "title2 = 'Percentage of purchases intention \\n by having or not a DRIVING LICENSE'\n",
    "textos = ['\\nHas a driving license \\n  ({} %)', '\\nDoesnt have a driving license \\n ({} %)']\n",
    "categories = [1, 0]\n",
    "createCategoryPlots(15, 7, df4, 'driving_license', title1, title2, categories, textos)"
   ]
  },
  {
   "cell_type": "markdown",
   "metadata": {
    "heading_collapsed": true,
    "hidden": true
   },
   "source": [
    "### HIP 4. Clients that are young have higher chances of purchasing a car's insurance."
   ]
  },
  {
   "cell_type": "markdown",
   "metadata": {
    "hidden": true
   },
   "source": [
    "FALSE"
   ]
  },
  {
   "cell_type": "code",
   "execution_count": null,
   "metadata": {
    "ExecuteTime": {
     "end_time": "2021-03-07T00:20:48.829088Z",
     "start_time": "2021-03-07T00:20:40.457663Z"
    },
    "hidden": true
   },
   "outputs": [],
   "source": [
    "aux_accept = df4[ df4['response'] == 1 ]\n",
    "aux_reject = df4[ df4['response'] == 0 ]\n",
    "\n",
    "plt.figure(figsize=(15,12))\n",
    "plt.subplots_adjust(left=None, bottom=None, right=None, top=None, wspace=0.3, hspace=0.3)\n",
    "\n",
    "plt.subplot(2,3,1)\n",
    "plt.title('Distribution of age')\n",
    "sns.histplot(data=df4, x='age', kde=True)\n",
    "\n",
    "plt.subplot(2,3,2)\n",
    "plt.title('Distribution of age with \\n insurance acceptance')\n",
    "sns.histplot(data=aux_accept, x='age', color='green', kde=True)\n",
    "\n",
    "plt.subplot(2,3,3)\n",
    "plt.title('Distribution of age with \\n insurance rejection')\n",
    "sns.histplot(data=aux_reject, x='age', color=\"red\", kde=True)\n",
    "\n",
    "\n",
    "plt.subplot(2,3,4)\n",
    "plt.title('Distribution of age with \\n insurance acceptance')\n",
    "\n",
    "blue_patch = mpatches.Patch(color='blue', label='data')\n",
    "green_patch = mpatches.Patch(color='green', label='acceptance')\n",
    "red_patch = mpatches.Patch(color='red', label='rejection')\n",
    "plt.legend(handles=[blue_patch, green_patch, red_patch])\n",
    "\n",
    "line1=sns.kdeplot(data=df4, x='age', color='blue');\n",
    "line2=sns.kdeplot(data=aux_accept, x='age', color='green')\n",
    "line3=sns.kdeplot(data=aux_reject, x='age', color='red');\n",
    "\n",
    "\n",
    "plt.subplot(2,3,5)\n",
    "plt.title('Distribution of age with \\n insurance acceptance')\n",
    "\n",
    "blue_patch = mpatches.Patch(color='blue', label='data')\n",
    "green_patch = mpatches.Patch(color='green', label='acceptance')\n",
    "red_patch = mpatches.Patch(color='red', label='rejection')\n",
    "plt.legend(handles=[blue_patch, green_patch, red_patch])\n",
    "\n",
    "sns.histplot(data=df4, x='age', color='blue');\n",
    "sns.histplot(data=aux_reject, x='age', color='red');\n",
    "sns.histplot(data=aux_accept, x='age', color='green')\n",
    "\n",
    "#plt.subplot(2,3,5)\n",
    "#plt.title('Distribution of vintage with insurance rejection')\n"
   ]
  },
  {
   "cell_type": "markdown",
   "metadata": {
    "heading_collapsed": true,
    "hidden": true
   },
   "source": [
    "### HIP 5. Clients who live in dangerous areas are more proned to purchase a car's insurance."
   ]
  },
  {
   "cell_type": "markdown",
   "metadata": {
    "hidden": true
   },
   "source": [
    "INCONCLUSIVE - We don't information about the violence in each region, we just noticed analysing the data<br>\n",
    "that some regions are more proned to purchase a car insurance than others regions."
   ]
  },
  {
   "cell_type": "code",
   "execution_count": null,
   "metadata": {
    "ExecuteTime": {
     "end_time": "2021-03-07T00:20:50.491312Z",
     "start_time": "2021-03-07T00:20:48.830746Z"
    },
    "hidden": true
   },
   "outputs": [],
   "source": [
    "plt.figure(figsize=(15,15))\n",
    "plt.subplots_adjust(left=None, bottom=None, right=None, top=None, wspace=0.3, hspace=0.3)\n",
    "\n",
    "plt.subplot(3,1,1)\n",
    "plt.title('Amount of interviewed customers per region code')\n",
    "sns.countplot( df4['region_code'] )\n",
    "\n",
    "# Calculating the percentage of interested customers per region code\n",
    "df_accept_per_region_code = df4[ df4['response'] == 1 ]\n",
    "df_reject_per_region_code = df4[ df4['response'] == 0 ]\n",
    "\n",
    "region_code_accept_num = np.array( df_accept_per_region_code.groupby('region_code').size() )\n",
    "region_code_reject_num = np.array( df_reject_per_region_code.groupby('region_code').size() )\n",
    "\n",
    "region_code_perc_accept = region_code_accept_num / (region_code_accept_num + region_code_reject_num)\n",
    "\n",
    "plt.subplot(3,1,2)\n",
    "plt.title('Percentage of purchasing interested by region code')\n",
    "sns.barplot(x= np.sort( df4['region_code'].unique() ), y=region_code_perc_accept );\n"
   ]
  },
  {
   "cell_type": "markdown",
   "metadata": {
    "heading_collapsed": true,
    "hidden": true
   },
   "source": [
    "### HIP 6. Clients whose annual premium is expensive, tends to not purchase a car's insurance."
   ]
  },
  {
   "cell_type": "markdown",
   "metadata": {
    "hidden": true
   },
   "source": [
    "FALSE - Clients whose annual premium is expensive tends to purchase a car insurance"
   ]
  },
  {
   "cell_type": "code",
   "execution_count": null,
   "metadata": {
    "ExecuteTime": {
     "end_time": "2021-03-07T00:20:56.345604Z",
     "start_time": "2021-03-07T00:20:50.493353Z"
    },
    "hidden": true
   },
   "outputs": [],
   "source": [
    "plt.figure(figsize=(15,12))\n",
    "plt.subplots_adjust(left=None, bottom=None, right=None, top=None, wspace=0.3, hspace=0.3)\n",
    "\n",
    "\n",
    "plt.subplot(3,2,1)\n",
    "plt.title('Distribution of acceptance having an \\n annual premium (<= 10,000)')\n",
    "plt.xticks( np.arange(0, 10000, 1000), rotation=0 )\n",
    "plt.xlim(0,10000)  \n",
    "sns.histplot( df4[ (df4['response'] == 1) & (df4['annual_premium'] <= 10000) ]['annual_premium'] )\n",
    "\n",
    "plt.subplot(3,2,2)\n",
    "plt.title('Distribution of acceptance having an \\n annual premium (> 10,000)')\n",
    "plt.xticks( np.arange(0, 70000, 5000), rotation=-30 )\n",
    "plt.xlim(0,70000)  \n",
    "sns.histplot( df4[ (df4['response'] == 1) & (df4['annual_premium'] > 10000) ]['annual_premium'] )\n",
    "\n",
    "plt.subplot(3,2,3)\n",
    "plt.title('Distribution of rejection having an \\n annual premium (<= 10,000)')\n",
    "plt.xticks( np.arange(0, 10000, 1000), rotation=-30 )\n",
    "plt.xlim(0,10000)  \n",
    "sns.histplot( df4[ (df4['response'] == 0) & (df4['annual_premium'] <= 10000) ]['annual_premium'] )\n",
    "\n",
    "plt.subplot(3,2,4)\n",
    "plt.title('Distribution of rejection having an \\n annual premium (> 10,000)')\n",
    "plt.xticks( np.arange(0, 70000, 5000), rotation=-30 )\n",
    "plt.xlim(0,70000)  \n",
    "sns.histplot( df4[ (df4['response'] == 0) & (df4['annual_premium'] > 10000) ]['annual_premium'] )\n",
    "\n",
    "plt.subplot(3,2,(5,6))\n",
    "plt.title('Distribution of acceptance and rejection having an \\n annual premium (> 10,000)')\n",
    "plt.xticks( np.arange(0, 70000, 3000), rotation=-30 )\n",
    "plt.xlim(0,70000)  \n",
    "green_patch = mpatches.Patch(color='green', label='acceptance')\n",
    "red_patch = mpatches.Patch(color='red', label='rejection')\n",
    "plt.legend(handles=[green_patch, red_patch])\n",
    "\n",
    "sns.kdeplot( df4[ (df4['response'] == 1) & (df4['annual_premium'] > 10000) ]['annual_premium'], clip=(70000,5), color='green' )\n",
    "sns.kdeplot( df4[ (df4['response'] == 0) & (df4['annual_premium'] > 10000) ]['annual_premium'], clip=(70000,5), color='red' );"
   ]
  },
  {
   "cell_type": "markdown",
   "metadata": {
    "ExecuteTime": {
     "end_time": "2021-02-28T20:37:51.603910Z",
     "start_time": "2021-02-28T20:37:51.586499Z"
    },
    "heading_collapsed": true,
    "hidden": true
   },
   "source": [
    "### HIP 7. Clients whose vehicle is new are more proned to purchase a car's insurance."
   ]
  },
  {
   "cell_type": "markdown",
   "metadata": {
    "hidden": true
   },
   "source": [
    "FALSE - Clients whose vehicle is new are less proned to purchase a car's insurance"
   ]
  },
  {
   "cell_type": "code",
   "execution_count": null,
   "metadata": {
    "ExecuteTime": {
     "end_time": "2021-03-07T00:20:56.954612Z",
     "start_time": "2021-03-07T00:20:56.347847Z"
    },
    "hidden": true
   },
   "outputs": [],
   "source": [
    "title1 = 'Amount of interviewed customers that have \\n or not a DRIVING LICENSE'\n",
    "title2 = 'Percentage of purchases intention \\n by having or not a DRIVING LICENSE'\n",
    "textos = ['\\n old car \\n  ({} %)', '\\n almost new car \\n ({} %)', '\\n new car \\n ({} %)']\n",
    "categories = ['old', 'almost_new', 'new']\n",
    "createCategoryPlots(15, 7, df4, 'vehicle_age', title1, title2, categories, textos)"
   ]
  },
  {
   "cell_type": "markdown",
   "metadata": {
    "heading_collapsed": true,
    "hidden": true
   },
   "source": [
    "### HIP 8. Clients whose vehicle has been already damaged tends to purchase a car insurance."
   ]
  },
  {
   "cell_type": "markdown",
   "metadata": {
    "hidden": true
   },
   "source": [
    "TRUE - Clients whose vehicle has been already damaged tend to purchase a car insurance"
   ]
  },
  {
   "cell_type": "code",
   "execution_count": null,
   "metadata": {
    "ExecuteTime": {
     "end_time": "2021-03-07T00:20:57.270157Z",
     "start_time": "2021-03-07T00:20:56.957128Z"
    },
    "hidden": true
   },
   "outputs": [],
   "source": [
    "title1 = 'Amount of interviewed customers that have \\n or not a DRIVING LICENSE'\n",
    "title2 = 'Percentage of purchases intention \\n by having or not a DRIVING LICENSE'\n",
    "textos = ['\\n has already been damaged \\n  ({} %)', '\\n has never been damaged \\n ({} %)']\n",
    "categories = [1, 0]\n",
    "createCategoryPlots(15, 7, df4, 'vehicle_damage', title1, title2, categories, textos)"
   ]
  },
  {
   "cell_type": "markdown",
   "metadata": {
    "heading_collapsed": true,
    "hidden": true
   },
   "source": [
    "## 4.3. Multivariate Analysis"
   ]
  },
  {
   "cell_type": "markdown",
   "metadata": {
    "heading_collapsed": true,
    "hidden": true
   },
   "source": [
    "### 4.3.1. Numerical Attributes"
   ]
  },
  {
   "cell_type": "code",
   "execution_count": null,
   "metadata": {
    "ExecuteTime": {
     "end_time": "2021-03-07T00:20:57.518240Z",
     "start_time": "2021-03-07T00:20:57.272198Z"
    },
    "hidden": true
   },
   "outputs": [],
   "source": [
    "correlation = num_data.corr( method='pearson' )\n",
    "sns.heatmap( correlation, annot=True)"
   ]
  },
  {
   "cell_type": "markdown",
   "metadata": {
    "heading_collapsed": true,
    "hidden": true
   },
   "source": [
    "### 4.3.2. Categorical Attributes"
   ]
  },
  {
   "cell_type": "code",
   "execution_count": null,
   "metadata": {
    "ExecuteTime": {
     "end_time": "2021-03-07T00:21:00.336749Z",
     "start_time": "2021-03-07T00:20:57.520227Z"
    },
    "hidden": true
   },
   "outputs": [],
   "source": [
    "\n",
    "def createHeatmapForCategoricalData( df ):\n",
    "    quant = df.columns.shape[0]\n",
    "    categories = list( df.columns )\n",
    "    values_cramerv = []\n",
    "    \n",
    "    for i in range(quant):\n",
    "        for j in range(quant):\n",
    "            values_cramerv.append( cramer_v( cat_data[ categories[i] ], cat_data[ categories[j] ] ) )\n",
    "    \n",
    "    tab = pd.DataFrame({\n",
    "                        'gender': [values_cramerv[i] for i in range(7)],\n",
    "                        'vehicle_age': [values_cramerv[i+7] for i in range(7)],\n",
    "                        'driving_license': [values_cramerv[i+7*2] for i in range(7)],\n",
    "                        'region_code': [values_cramerv[i+7*3] for i in range(7)],\n",
    "                        'previously_insured': [values_cramerv[i+7*4] for i in range(7)],\n",
    "                        'vehicle_damage': [values_cramerv[i+7*5] for i in range(7)],\n",
    "                        'policy_sales_channel': [values_cramerv[i+7*6] for i in range(7)]\n",
    "    })\n",
    "    tab.set_index(tab.columns)\n",
    "    \n",
    "    return tab\n",
    "\n",
    "tab = createHeatmapForCategoricalData( cat_data )\n",
    "plt.figure(figsize=(15,12))\n",
    "sns.heatmap( tab.corr(method='pearson'), annot=True)"
   ]
  },
  {
   "cell_type": "code",
   "execution_count": null,
   "metadata": {
    "ExecuteTime": {
     "end_time": "2021-03-07T00:21:00.345306Z",
     "start_time": "2021-03-07T00:21:00.338817Z"
    },
    "hidden": true
   },
   "outputs": [],
   "source": [
    "list( cat_data.columns )"
   ]
  },
  {
   "cell_type": "markdown",
   "metadata": {},
   "source": [
    "# 5.0. Data Preparation"
   ]
  },
  {
   "cell_type": "code",
   "execution_count": null,
   "metadata": {
    "ExecuteTime": {
     "end_time": "2021-03-07T00:21:00.701250Z",
     "start_time": "2021-03-07T00:21:00.348945Z"
    }
   },
   "outputs": [],
   "source": [
    "df5 = df4.copy()"
   ]
  },
  {
   "cell_type": "code",
   "execution_count": null,
   "metadata": {
    "ExecuteTime": {
     "end_time": "2021-03-07T00:21:00.759555Z",
     "start_time": "2021-03-07T00:21:00.703695Z"
    }
   },
   "outputs": [],
   "source": [
    "num_data.columns"
   ]
  },
  {
   "cell_type": "markdown",
   "metadata": {
    "heading_collapsed": true
   },
   "source": [
    "## 5.1. Rescaling"
   ]
  },
  {
   "cell_type": "markdown",
   "metadata": {
    "heading_collapsed": true,
    "hidden": true
   },
   "source": [
    "### Age"
   ]
  },
  {
   "cell_type": "code",
   "execution_count": null,
   "metadata": {
    "ExecuteTime": {
     "end_time": "2021-03-07T00:21:03.276247Z",
     "start_time": "2021-03-07T00:21:00.762945Z"
    },
    "hidden": true
   },
   "outputs": [],
   "source": [
    "plt.figure(figsize=(15,5))\n",
    "\n",
    "plt.subplot(2,2,1)\n",
    "sns.histplot(df5['age'])\n",
    "\n",
    "plt.subplot(2,2,2)\n",
    "sns.boxplot(df5['age'])\n",
    "\n",
    "mms = MinMaxScaler()\n",
    "rs = RobustScaler()\n",
    "\n",
    "df5['age'] = mms.fit_transform( df5[['age']].values )\n",
    "\n",
    "plt.subplot(2,2,3)\n",
    "sns.histplot(df5['age'])\n",
    "\n",
    "plt.subplot(2,2,4)\n",
    "sns.boxplot(df5['age'])"
   ]
  },
  {
   "cell_type": "markdown",
   "metadata": {
    "heading_collapsed": true,
    "hidden": true
   },
   "source": [
    "### Annual Premium"
   ]
  },
  {
   "cell_type": "markdown",
   "metadata": {
    "hidden": true
   },
   "source": [
    "In the annual_premium feature there are a lot of outliers, so we are going to use Robust Scaler, <br>\n",
    "because it's less sensitive to outliers than the Min-Max Scaler"
   ]
  },
  {
   "cell_type": "code",
   "execution_count": null,
   "metadata": {
    "ExecuteTime": {
     "end_time": "2021-03-07T00:21:08.967305Z",
     "start_time": "2021-03-07T00:21:03.278169Z"
    },
    "hidden": true
   },
   "outputs": [],
   "source": [
    "plt.figure(figsize=(15,5))\n",
    "\n",
    "plt.subplot(2,2,1)\n",
    "sns.histplot(df5['annual_premium'])\n",
    "\n",
    "plt.subplot(2,2,2)\n",
    "sns.boxplot(df5['annual_premium'])\n",
    "\n",
    "rs = RobustScaler()\n",
    "\n",
    "df5['annual_premium'] = rs.fit_transform( df5[['annual_premium']].values )\n",
    "\n",
    "plt.subplot(2,2,3)\n",
    "sns.histplot(df5['annual_premium'])\n",
    "\n",
    "plt.subplot(2,2,4)\n",
    "sns.boxplot(df5['annual_premium'])\n"
   ]
  },
  {
   "cell_type": "markdown",
   "metadata": {
    "heading_collapsed": true,
    "hidden": true
   },
   "source": [
    "### Vintage"
   ]
  },
  {
   "cell_type": "markdown",
   "metadata": {
    "hidden": true
   },
   "source": [
    "There are no outliers, so we are going to use Min Max Scaler"
   ]
  },
  {
   "cell_type": "code",
   "execution_count": null,
   "metadata": {
    "ExecuteTime": {
     "end_time": "2021-03-07T00:21:10.369873Z",
     "start_time": "2021-03-07T00:21:08.968953Z"
    },
    "hidden": true
   },
   "outputs": [],
   "source": [
    "plt.figure(figsize=(15,5))\n",
    "\n",
    "plt.subplot(2,2,1)\n",
    "sns.histplot(df5['vintage'])\n",
    "\n",
    "plt.subplot(2,2,2)\n",
    "sns.boxplot(df5['vintage'])\n",
    "\n",
    "mms = MinMaxScaler()\n",
    "\n",
    "df5['vintage'] = mms.fit_transform( df5[['vintage']].values )\n",
    "\n",
    "plt.subplot(2,2,3)\n",
    "sns.histplot(df5['vintage'])\n",
    "\n",
    "plt.subplot(2,2,4)\n",
    "sns.boxplot(df5['vintage'])"
   ]
  },
  {
   "cell_type": "markdown",
   "metadata": {},
   "source": [
    "## 5.2. Transformation"
   ]
  },
  {
   "cell_type": "markdown",
   "metadata": {},
   "source": [
    "### 5.2.1. Encoding"
   ]
  },
  {
   "cell_type": "code",
   "execution_count": null,
   "metadata": {
    "ExecuteTime": {
     "end_time": "2021-03-07T00:21:10.377961Z",
     "start_time": "2021-03-07T00:21:10.372421Z"
    }
   },
   "outputs": [],
   "source": [
    "cat_data.columns"
   ]
  },
  {
   "cell_type": "markdown",
   "metadata": {
    "heading_collapsed": true
   },
   "source": [
    "#### Gender"
   ]
  },
  {
   "cell_type": "code",
   "execution_count": null,
   "metadata": {
    "ExecuteTime": {
     "end_time": "2021-03-07T00:21:11.410405Z",
     "start_time": "2021-03-07T00:21:10.380939Z"
    },
    "hidden": true
   },
   "outputs": [],
   "source": [
    "# Label encoder - because there is no order relation \n",
    "le = LabelEncoder()\n",
    "df5['gender'] = le.fit_transform( df5['gender'] )"
   ]
  },
  {
   "cell_type": "markdown",
   "metadata": {},
   "source": [
    "#### Vehicle Age"
   ]
  },
  {
   "cell_type": "code",
   "execution_count": null,
   "metadata": {
    "ExecuteTime": {
     "end_time": "2021-03-07T00:21:11.440053Z",
     "start_time": "2021-03-07T00:21:11.411929Z"
    }
   },
   "outputs": [],
   "source": [
    "# Ordinal encoder - because there is a order relation \n",
    "vehicle_age_dict = {'new': 1, 'almost_new': 2, 'old': 3}\n",
    "df5['vehicle_age'] = df5['vehicle_age'].map( vehicle_age_dict )"
   ]
  },
  {
   "cell_type": "markdown",
   "metadata": {
    "heading_collapsed": true
   },
   "source": [
    "#### Driving License"
   ]
  },
  {
   "cell_type": "markdown",
   "metadata": {
    "hidden": true
   },
   "source": [
    "One Hot Encoding - because the variable represents a state"
   ]
  },
  {
   "cell_type": "code",
   "execution_count": null,
   "metadata": {
    "ExecuteTime": {
     "end_time": "2021-03-07T00:21:11.543688Z",
     "start_time": "2021-03-07T00:21:11.441693Z"
    },
    "hidden": true
   },
   "outputs": [],
   "source": [
    "df5 = pd.get_dummies(df5, prefix=['driving_license'], columns=['driving_license'])"
   ]
  },
  {
   "cell_type": "markdown",
   "metadata": {
    "heading_collapsed": true
   },
   "source": [
    "#### Region Code"
   ]
  },
  {
   "cell_type": "markdown",
   "metadata": {
    "hidden": true
   },
   "source": [
    "Target Encoding - contains the percentage of purchase acceptance per region code"
   ]
  },
  {
   "cell_type": "code",
   "execution_count": null,
   "metadata": {
    "ExecuteTime": {
     "end_time": "2021-03-07T00:21:11.606748Z",
     "start_time": "2021-03-07T00:21:11.545242Z"
    },
    "hidden": true
   },
   "outputs": [],
   "source": [
    "te = df5[ df5['response'] == 1 ].groupby('region_code').size() / df5.groupby('region_code').size()\n",
    "df5['region_code'] = df5['region_code'].map( te )"
   ]
  },
  {
   "cell_type": "markdown",
   "metadata": {
    "heading_collapsed": true
   },
   "source": [
    "#### Previously Insured"
   ]
  },
  {
   "cell_type": "markdown",
   "metadata": {
    "hidden": true
   },
   "source": [
    "One Hot Encoding - it represents a state"
   ]
  },
  {
   "cell_type": "code",
   "execution_count": null,
   "metadata": {
    "ExecuteTime": {
     "end_time": "2021-03-07T00:21:11.670552Z",
     "start_time": "2021-03-07T00:21:11.608117Z"
    },
    "hidden": true
   },
   "outputs": [],
   "source": [
    "df5 = pd.get_dummies(df5, prefix=['previously_insured'], columns=['previously_insured'])"
   ]
  },
  {
   "cell_type": "markdown",
   "metadata": {
    "heading_collapsed": true
   },
   "source": [
    "#### Vehicle Damage"
   ]
  },
  {
   "cell_type": "markdown",
   "metadata": {
    "hidden": true
   },
   "source": [
    "One Hot Encoding - it represents a state"
   ]
  },
  {
   "cell_type": "code",
   "execution_count": null,
   "metadata": {
    "ExecuteTime": {
     "end_time": "2021-03-07T00:21:11.741118Z",
     "start_time": "2021-03-07T00:21:11.672223Z"
    },
    "hidden": true
   },
   "outputs": [],
   "source": [
    "df5 = pd.get_dummies(df5, prefix=['vehicle_damage'], columns=['vehicle_damage'])"
   ]
  },
  {
   "cell_type": "markdown",
   "metadata": {
    "ExecuteTime": {
     "end_time": "2021-03-03T18:10:15.508029Z",
     "start_time": "2021-03-03T18:10:15.478166Z"
    }
   },
   "source": [
    "#### Policy Sales Channel"
   ]
  },
  {
   "cell_type": "markdown",
   "metadata": {},
   "source": [
    "Target Encoding"
   ]
  },
  {
   "cell_type": "code",
   "execution_count": null,
   "metadata": {
    "ExecuteTime": {
     "end_time": "2021-03-07T00:21:11.809563Z",
     "start_time": "2021-03-07T00:21:11.742833Z"
    }
   },
   "outputs": [],
   "source": [
    "all_policy_sales_channels = np.sort( df5['policy_sales_channel'].unique() )\n",
    "dt_all_policy_sales_channels = pd.DataFrame(all_policy_sales_channels, columns=['policy_sales_channel'])\n",
    "\n",
    "accept_policy_sales_channels = df5[ df5['response'] == 1 ].groupby('policy_sales_channel').size()\n",
    "dt_accept_policy_sales_channels = pd.DataFrame(accept_policy_sales_channels, columns=['sum_of_values']).reset_index()\n",
    "\n",
    "aux5 = pd.merge(dt_all_policy_sales_channels, dt_accept_policy_sales_channels, how='left', on='policy_sales_channel')\n",
    "aux5['sum_of_values'] = aux5['sum_of_values'].apply(lambda x: 0 if math.isnan(x) else x)\n",
    "\n",
    "aux6 = pd.DataFrame( df5.groupby('policy_sales_channel').size(), columns=['quantity'])\n",
    "aux7 = pd.merge(aux5, aux6, how='left', on='policy_sales_channel')\n",
    "aux7['perc'] = aux7['sum_of_values'] / aux7['quantity']\n",
    "\n",
    "dict_policy_sales_channel = pd.Series(aux7.perc.values, index=aux7.policy_sales_channel).to_dict()\n",
    "\n",
    "df5['policy_sales_channel'] = df5['policy_sales_channel'].map( dict_policy_sales_channel )"
   ]
  },
  {
   "cell_type": "markdown",
   "metadata": {},
   "source": [
    "# 6.0. Feature Selection"
   ]
  },
  {
   "cell_type": "code",
   "execution_count": null,
   "metadata": {
    "ExecuteTime": {
     "end_time": "2021-03-07T00:21:11.860590Z",
     "start_time": "2021-03-07T00:21:11.811390Z"
    }
   },
   "outputs": [],
   "source": [
    "df6 = df5.copy()"
   ]
  },
  {
   "cell_type": "code",
   "execution_count": null,
   "metadata": {
    "ExecuteTime": {
     "end_time": "2021-03-07T00:21:11.939244Z",
     "start_time": "2021-03-07T00:21:11.862121Z"
    }
   },
   "outputs": [],
   "source": [
    "df6"
   ]
  },
  {
   "cell_type": "markdown",
   "metadata": {},
   "source": [
    "## 6.1. Splitting dataframe into training and test set "
   ]
  },
  {
   "cell_type": "code",
   "execution_count": null,
   "metadata": {
    "ExecuteTime": {
     "end_time": "2021-03-07T00:21:12.063752Z",
     "start_time": "2021-03-07T00:21:11.940803Z"
    }
   },
   "outputs": [],
   "source": [
    "# Shuffling the dataset rows\n",
    "aux = df6.sample(frac=1)\n",
    "\n",
    "x_train = aux.iloc[0 : 8 * ( int( len(aux)/10 ) ), :] \n",
    "y_train = x_train['response']\n",
    "\n",
    "x_test = aux.iloc[8 * ( int( len(aux)/10 ) ) : len(aux), :]\n",
    "y_test = x_test['response']"
   ]
  },
  {
   "cell_type": "code",
   "execution_count": null,
   "metadata": {
    "ExecuteTime": {
     "end_time": "2021-03-07T00:21:12.182602Z",
     "start_time": "2021-03-07T00:21:12.065153Z"
    }
   },
   "outputs": [],
   "source": [
    "aux.isna().sum()"
   ]
  },
  {
   "cell_type": "code",
   "execution_count": null,
   "metadata": {
    "ExecuteTime": {
     "end_time": "2021-03-07T00:21:12.243633Z",
     "start_time": "2021-03-07T00:21:12.184944Z"
    }
   },
   "outputs": [],
   "source": [
    "print(x_train.shape)\n",
    "print(y_train.shape)\n",
    "print(x_test.shape)\n",
    "print(y_test.shape)"
   ]
  },
  {
   "cell_type": "markdown",
   "metadata": {},
   "source": [
    "## 6.2. Boruta - Feature Selection"
   ]
  },
  {
   "cell_type": "code",
   "execution_count": null,
   "metadata": {
    "ExecuteTime": {
     "end_time": "2021-03-07T00:29:13.662887Z",
     "start_time": "2021-03-07T00:26:03.034872Z"
    }
   },
   "outputs": [],
   "source": [
    "x_train_vec = x_train.drop( ['id','response'], axis=1 ).values\n",
    "y_train_vec = y_train.values.ravel()\n",
    "\n",
    "rf = RandomForestClassifier(max_depth=10, n_jobs=-1) \n",
    "boruta = BorutaPy(rf, n_estimators='auto', verbose=1, max_iter=20, random_state=42).fit( x_train_vec, y_train_vec )"
   ]
  },
  {
   "cell_type": "markdown",
   "metadata": {},
   "source": [
    "### 6.2.1 Best Features selected by Boruta"
   ]
  },
  {
   "cell_type": "code",
   "execution_count": null,
   "metadata": {
    "ExecuteTime": {
     "end_time": "2021-03-07T00:29:58.685455Z",
     "start_time": "2021-03-07T00:29:58.661854Z"
    }
   },
   "outputs": [],
   "source": [
    "cols_selected = boruta.support_.tolist()\n",
    "\n",
    "x_train_fs = x_train.drop( ['id', 'response'], axis=1 )\n",
    "\n",
    "# Columns selected by Boruta Algorithm\n",
    "cols_name_selected = x_train_fs.iloc[:,cols_selected].columns.tolist()\n",
    "\n",
    "# Columns not selected by Boruta Algorithm\n",
    "cols_name_not_selected = list( np.setdiff1d( x_train_fs.columns, cols_name_selected ) )\n",
    "\n",
    "cols_name_selected"
   ]
  },
  {
   "cell_type": "code",
   "execution_count": null,
   "metadata": {
    "ExecuteTime": {
     "end_time": "2021-03-07T00:30:22.594263Z",
     "start_time": "2021-03-07T00:30:22.586947Z"
    }
   },
   "outputs": [],
   "source": [
    "cols_name_not_selected"
   ]
  },
  {
   "cell_type": "markdown",
   "metadata": {},
   "source": [
    "## 6.3. Manual Feature Selection"
   ]
  },
  {
   "cell_type": "markdown",
   "metadata": {},
   "source": [
    "Let's join the features selected by the Boruta Algorithm with the features we suppose are relevant <br> accordingly with the Exploratory Data Analysis."
   ]
  },
  {
   "cell_type": "code",
   "execution_count": null,
   "metadata": {
    "ExecuteTime": {
     "end_time": "2021-03-07T01:29:29.221069Z",
     "start_time": "2021-03-07T01:29:29.211464Z"
    }
   },
   "outputs": [],
   "source": [
    "best_features = ['age',\n",
    "                 'region_code',\n",
    "                 'vehicle_age',\n",
    "                 'annual_premium',\n",
    "                 'policy_sales_channel',\n",
    "                 'previously_insured_0',\n",
    "                 'previously_insured_1',\n",
    "                 'vehicle_damage_0',\n",
    "                 'vehicle_damage_1']\n",
    "\n",
    "not_selected_features = ['driving_license_0',\n",
    "                         'driving_license_1',\n",
    "                         'gender',\n",
    "                         'vintage']"
   ]
  },
  {
   "cell_type": "markdown",
   "metadata": {},
   "source": [
    "# 7.0. Machine Learning Modeling"
   ]
  },
  {
   "cell_type": "code",
   "execution_count": null,
   "metadata": {
    "ExecuteTime": {
     "end_time": "2021-03-07T02:07:57.290101Z",
     "start_time": "2021-03-07T02:07:57.277831Z"
    }
   },
   "outputs": [],
   "source": [
    "x_train_aft_feat_selec = x_train[ best_features ]\n",
    "x_test_aft_feat_selec = x_test[ best_features ]\n",
    "\n",
    "# columns to add\n",
    "best_features.extend( ['response'] )"
   ]
  },
  {
   "cell_type": "markdown",
   "metadata": {},
   "source": [
    "## 7.3. Random Forest"
   ]
  },
  {
   "cell_type": "code",
   "execution_count": null,
   "metadata": {
    "ExecuteTime": {
     "end_time": "2021-03-07T02:46:21.214718Z",
     "start_time": "2021-03-07T02:46:06.492383Z"
    }
   },
   "outputs": [],
   "source": [
    "# model\n",
    "rf = RandomForestClassifier(max_depth=10, n_jobs=-1, random_state=41)\n",
    "\n",
    "rf_fit = rf.fit( x_train_aft_feat_selec, y_train )\n",
    "\n",
    "# prediction\n",
    "y_hat_rf = rf_fit.predict( x_test_aft_feat_selec )\n",
    "\n",
    "# performance\n",
    "performance = ml_error('Random forest', y_test, y_hat_rf)\n",
    "performance"
   ]
  },
  {
   "cell_type": "markdown",
   "metadata": {},
   "source": [
    "## 7.4. XGBoost"
   ]
  },
  {
   "cell_type": "code",
   "execution_count": null,
   "metadata": {
    "ExecuteTime": {
     "end_time": "2021-03-07T02:46:33.180106Z",
     "start_time": "2021-03-07T02:46:21.218763Z"
    }
   },
   "outputs": [],
   "source": [
    "# model\n",
    "model_xgb = xgb.XGBClassifier()\n",
    "\n",
    "model_xgb_fit = model_xgb.fit( x_train_aft_feat_selec, y_train )\n",
    "\n",
    "y_hat_xgb = model_xgb_fit.predict( x_test_aft_feat_selec )\n",
    "\n",
    "# performance\n",
    "performance = ml_error('XGBoost', y_test, y_hat_xgb)\n",
    "performance"
   ]
  },
  {
   "cell_type": "markdown",
   "metadata": {},
   "source": [
    "## 7.5. Comparing Model Performance "
   ]
  },
  {
   "cell_type": "code",
   "execution_count": null,
   "metadata": {
    "ExecuteTime": {
     "end_time": "2021-03-07T03:04:57.959282Z",
     "start_time": "2021-03-07T03:04:57.937400Z"
    }
   },
   "outputs": [],
   "source": [
    "a=pd.DataFrame([precision_rf], columns=['Random Forest'])\n",
    "b=pd.DataFrame([precision_xgb], columns=['XGBoost'])\n",
    "pd.concat([a,b])\n",
    "#model_performance = [precision_rf, precision_xgb] \n",
    "#model_performance"
   ]
  },
  {
   "cell_type": "markdown",
   "metadata": {},
   "source": [
    "# 8.0. HyperParameter Fine Tuning"
   ]
  },
  {
   "cell_type": "markdown",
   "metadata": {},
   "source": [
    "## 8.1. Random Search"
   ]
  },
  {
   "cell_type": "code",
   "execution_count": null,
   "metadata": {
    "ExecuteTime": {
     "end_time": "2021-03-07T03:11:42.250256Z",
     "start_time": "2021-03-07T03:11:42.245346Z"
    }
   },
   "outputs": [],
   "source": [
    "param = {\n",
    "            'n_estimators': [100, 200, 500],\n",
    "            'max_depth': [8, 10, 15]\n",
    "        }"
   ]
  },
  {
   "cell_type": "code",
   "execution_count": null,
   "metadata": {
    "ExecuteTime": {
     "end_time": "2021-03-07T03:16:17.928784Z",
     "start_time": "2021-03-07T03:15:47.995317Z"
    }
   },
   "outputs": [],
   "source": [
    "MAX_ITER = 5\n",
    "final_result = pd.DataFrame()\n",
    "\n",
    "\n",
    "for i in range( MAX_ITER ):\n",
    "    # choose values for parameters randomly\n",
    "    hft = { k: random.sample( v, 1 )[0] for k, v in param.items() }\n",
    "    print( hft )\n",
    "\n",
    "    # model \n",
    "    rf = RandomForestClassifier( n_estimators=hft['n_estimators'],\n",
    "                                max_depth=hft['max_depth'],\n",
    "                                n_jobs=-1,\n",
    "                                random_state=42 )\n",
    "\n",
    "    # fit\n",
    "    rf_fit = rf.fit( x_train_aft_feat_selec, y_train )\n",
    "    \n",
    "    # prediction\n",
    "    y_hat = rf_fit.predict( x_test_aft_feat_selec )\n",
    "    \n",
    "    # performance\n",
    "    hits = 0\n",
    "    for i in range(len(y_test)):\n",
    "        if (y_test.values[i] == y_hat[i]):\n",
    "            hits = hits + 1\n",
    "    precision = hits / len(y_test)  \n",
    "    \n",
    "    final_result = pd.concat( [final_result, precision ])\n"
   ]
  },
  {
   "cell_type": "code",
   "execution_count": null,
   "metadata": {},
   "outputs": [],
   "source": []
  }
 ],
 "metadata": {
  "kernelspec": {
   "display_name": "Python 3",
   "language": "python",
   "name": "python3"
  },
  "language_info": {
   "codemirror_mode": {
    "name": "ipython",
    "version": 3
   },
   "file_extension": ".py",
   "mimetype": "text/x-python",
   "name": "python",
   "nbconvert_exporter": "python",
   "pygments_lexer": "ipython3",
   "version": "3.6.9"
  }
 },
 "nbformat": 4,
 "nbformat_minor": 4
}
